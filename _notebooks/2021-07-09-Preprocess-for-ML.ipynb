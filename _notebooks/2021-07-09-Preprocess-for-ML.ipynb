{
 "cells": [
  {
   "cell_type": "markdown",
   "metadata": {
    "id": "2kNatprPEYHf"
   },
   "source": [
    "# \"ML 전처리\"\n",
    "> \"기본적인 머신러닝 전처리\"\n",
    "\n",
    "- toc:true\n",
    "- branch: master\n",
    "- badges: true\n",
    "- comments: true\n",
    "- author: DataCamp & 재언\n",
    "- categories: [jupyter, ml, ml preprocess, machine learning]"
   ]
  },
  {
   "cell_type": "code",
   "execution_count": null,
   "metadata": {
    "ExecuteTime": {
     "end_time": "2019-03-07T05:53:47.569995Z",
     "start_time": "2019-03-07T05:53:47.095960Z"
    },
    "id": "lwFGIGbo-xjo"
   },
   "outputs": [],
   "source": [
    "import pandas as pd"
   ]
  },
  {
   "cell_type": "code",
   "execution_count": null,
   "metadata": {
    "ExecuteTime": {
     "end_time": "2019-03-08T05:02:56.732913Z",
     "start_time": "2019-03-08T05:02:55.218745Z"
    },
    "colab": {
     "base_uri": "https://localhost:8080/",
     "height": 615
    },
    "id": "_INBlxL--xjp",
    "outputId": "701a03fd-2b66-4b49-9b09-f5ec6def211b"
   },
   "outputs": [
    {
     "data": {
      "text/html": [
       "<div>\n",
       "<style scoped>\n",
       "    .dataframe tbody tr th:only-of-type {\n",
       "        vertical-align: middle;\n",
       "    }\n",
       "\n",
       "    .dataframe tbody tr th {\n",
       "        vertical-align: top;\n",
       "    }\n",
       "\n",
       "    .dataframe thead th {\n",
       "        text-align: right;\n",
       "    }\n",
       "</style>\n",
       "<table border=\"1\" class=\"dataframe\">\n",
       "  <thead>\n",
       "    <tr style=\"text-align: right;\">\n",
       "      <th></th>\n",
       "      <th>opportunity_id</th>\n",
       "      <th>content_id</th>\n",
       "      <th>vol_requests</th>\n",
       "      <th>event_time</th>\n",
       "      <th>title</th>\n",
       "      <th>hits</th>\n",
       "      <th>summary</th>\n",
       "      <th>is_priority</th>\n",
       "      <th>category_id</th>\n",
       "      <th>category_desc</th>\n",
       "      <th>amsl</th>\n",
       "      <th>amsl_unit</th>\n",
       "      <th>org_title</th>\n",
       "      <th>org_content_id</th>\n",
       "      <th>addresses_count</th>\n",
       "      <th>locality</th>\n",
       "      <th>region</th>\n",
       "      <th>postalcode</th>\n",
       "      <th>primary_loc</th>\n",
       "      <th>display_url</th>\n",
       "      <th>recurrence_type</th>\n",
       "      <th>hours</th>\n",
       "      <th>created_date</th>\n",
       "      <th>last_modified_date</th>\n",
       "      <th>start_date_date</th>\n",
       "      <th>end_date_date</th>\n",
       "      <th>status</th>\n",
       "      <th>Latitude</th>\n",
       "      <th>Longitude</th>\n",
       "      <th>Community Board</th>\n",
       "      <th>Community Council</th>\n",
       "      <th>Census Tract</th>\n",
       "      <th>BIN</th>\n",
       "      <th>BBL</th>\n",
       "      <th>NTA</th>\n",
       "    </tr>\n",
       "  </thead>\n",
       "  <tbody>\n",
       "    <tr>\n",
       "      <th>0</th>\n",
       "      <td>4996</td>\n",
       "      <td>37004</td>\n",
       "      <td>50</td>\n",
       "      <td>0</td>\n",
       "      <td>Volunteers Needed For Rise Up &amp; Stay Put! Home...</td>\n",
       "      <td>737</td>\n",
       "      <td>Building on successful events last summer and ...</td>\n",
       "      <td>NaN</td>\n",
       "      <td>NaN</td>\n",
       "      <td>NaN</td>\n",
       "      <td>NaN</td>\n",
       "      <td>NaN</td>\n",
       "      <td>Center For NYC Neighborhoods</td>\n",
       "      <td>4426</td>\n",
       "      <td>1</td>\n",
       "      <td>NaN</td>\n",
       "      <td>NY</td>\n",
       "      <td>NaN</td>\n",
       "      <td>NaN</td>\n",
       "      <td>/opportunities/4996</td>\n",
       "      <td>onetime</td>\n",
       "      <td>0</td>\n",
       "      <td>January 13 2011</td>\n",
       "      <td>June 23 2011</td>\n",
       "      <td>July 30 2011</td>\n",
       "      <td>July 30 2011</td>\n",
       "      <td>approved</td>\n",
       "      <td>NaN</td>\n",
       "      <td>NaN</td>\n",
       "      <td>NaN</td>\n",
       "      <td>NaN</td>\n",
       "      <td>NaN</td>\n",
       "      <td>NaN</td>\n",
       "      <td>NaN</td>\n",
       "      <td>NaN</td>\n",
       "    </tr>\n",
       "    <tr>\n",
       "      <th>1</th>\n",
       "      <td>5008</td>\n",
       "      <td>37036</td>\n",
       "      <td>2</td>\n",
       "      <td>0</td>\n",
       "      <td>Web designer</td>\n",
       "      <td>22</td>\n",
       "      <td>Build a website for an Afghan business</td>\n",
       "      <td>NaN</td>\n",
       "      <td>1.0</td>\n",
       "      <td>Strengthening Communities</td>\n",
       "      <td>NaN</td>\n",
       "      <td>NaN</td>\n",
       "      <td>Bpeace</td>\n",
       "      <td>37026</td>\n",
       "      <td>1</td>\n",
       "      <td>5 22nd St\\nNew York, NY 10010\\n(40.74053152272...</td>\n",
       "      <td>NY</td>\n",
       "      <td>10010.0</td>\n",
       "      <td>NaN</td>\n",
       "      <td>/opportunities/5008</td>\n",
       "      <td>onetime</td>\n",
       "      <td>0</td>\n",
       "      <td>January 14 2011</td>\n",
       "      <td>January 25 2011</td>\n",
       "      <td>February 01 2011</td>\n",
       "      <td>February 01 2011</td>\n",
       "      <td>approved</td>\n",
       "      <td>NaN</td>\n",
       "      <td>NaN</td>\n",
       "      <td>NaN</td>\n",
       "      <td>NaN</td>\n",
       "      <td>NaN</td>\n",
       "      <td>NaN</td>\n",
       "      <td>NaN</td>\n",
       "      <td>NaN</td>\n",
       "    </tr>\n",
       "    <tr>\n",
       "      <th>2</th>\n",
       "      <td>5016</td>\n",
       "      <td>37143</td>\n",
       "      <td>20</td>\n",
       "      <td>0</td>\n",
       "      <td>Urban Adventures - Ice Skating at Lasker Rink</td>\n",
       "      <td>62</td>\n",
       "      <td>Please join us and the students from Mott Hall...</td>\n",
       "      <td>NaN</td>\n",
       "      <td>1.0</td>\n",
       "      <td>Strengthening Communities</td>\n",
       "      <td>NaN</td>\n",
       "      <td>NaN</td>\n",
       "      <td>Street Project</td>\n",
       "      <td>3001</td>\n",
       "      <td>1</td>\n",
       "      <td>NaN</td>\n",
       "      <td>NY</td>\n",
       "      <td>10026.0</td>\n",
       "      <td>NaN</td>\n",
       "      <td>/opportunities/5016</td>\n",
       "      <td>onetime</td>\n",
       "      <td>0</td>\n",
       "      <td>January 19 2011</td>\n",
       "      <td>January 21 2011</td>\n",
       "      <td>January 29 2011</td>\n",
       "      <td>January 29 2011</td>\n",
       "      <td>approved</td>\n",
       "      <td>NaN</td>\n",
       "      <td>NaN</td>\n",
       "      <td>NaN</td>\n",
       "      <td>NaN</td>\n",
       "      <td>NaN</td>\n",
       "      <td>NaN</td>\n",
       "      <td>NaN</td>\n",
       "      <td>NaN</td>\n",
       "    </tr>\n",
       "    <tr>\n",
       "      <th>3</th>\n",
       "      <td>5022</td>\n",
       "      <td>37237</td>\n",
       "      <td>500</td>\n",
       "      <td>0</td>\n",
       "      <td>Fight global hunger and support women farmers ...</td>\n",
       "      <td>14</td>\n",
       "      <td>The Oxfam Action Corps is a group of dedicated...</td>\n",
       "      <td>NaN</td>\n",
       "      <td>1.0</td>\n",
       "      <td>Strengthening Communities</td>\n",
       "      <td>NaN</td>\n",
       "      <td>NaN</td>\n",
       "      <td>Oxfam America</td>\n",
       "      <td>2170</td>\n",
       "      <td>1</td>\n",
       "      <td>NaN</td>\n",
       "      <td>NY</td>\n",
       "      <td>2114.0</td>\n",
       "      <td>NaN</td>\n",
       "      <td>/opportunities/5022</td>\n",
       "      <td>ongoing</td>\n",
       "      <td>0</td>\n",
       "      <td>January 21 2011</td>\n",
       "      <td>January 25 2011</td>\n",
       "      <td>February 14 2011</td>\n",
       "      <td>March 31 2012</td>\n",
       "      <td>approved</td>\n",
       "      <td>NaN</td>\n",
       "      <td>NaN</td>\n",
       "      <td>NaN</td>\n",
       "      <td>NaN</td>\n",
       "      <td>NaN</td>\n",
       "      <td>NaN</td>\n",
       "      <td>NaN</td>\n",
       "      <td>NaN</td>\n",
       "    </tr>\n",
       "    <tr>\n",
       "      <th>4</th>\n",
       "      <td>5055</td>\n",
       "      <td>37425</td>\n",
       "      <td>15</td>\n",
       "      <td>0</td>\n",
       "      <td>Stop 'N' Swap</td>\n",
       "      <td>31</td>\n",
       "      <td>Stop 'N' Swap reduces NYC's waste by finding n...</td>\n",
       "      <td>NaN</td>\n",
       "      <td>4.0</td>\n",
       "      <td>Environment</td>\n",
       "      <td>NaN</td>\n",
       "      <td>NaN</td>\n",
       "      <td>Office of Recycling Outreach and Education</td>\n",
       "      <td>36773</td>\n",
       "      <td>1</td>\n",
       "      <td>NaN</td>\n",
       "      <td>NY</td>\n",
       "      <td>10455.0</td>\n",
       "      <td>NaN</td>\n",
       "      <td>/opportunities/5055</td>\n",
       "      <td>onetime</td>\n",
       "      <td>0</td>\n",
       "      <td>January 28 2011</td>\n",
       "      <td>February 01 2011</td>\n",
       "      <td>February 05 2011</td>\n",
       "      <td>February 05 2011</td>\n",
       "      <td>approved</td>\n",
       "      <td>NaN</td>\n",
       "      <td>NaN</td>\n",
       "      <td>NaN</td>\n",
       "      <td>NaN</td>\n",
       "      <td>NaN</td>\n",
       "      <td>NaN</td>\n",
       "      <td>NaN</td>\n",
       "      <td>NaN</td>\n",
       "    </tr>\n",
       "  </tbody>\n",
       "</table>\n",
       "</div>"
      ],
      "text/plain": [
       "   opportunity_id  content_id  vol_requests  ...  BIN BBL  NTA\n",
       "0            4996       37004            50  ...  NaN NaN  NaN\n",
       "1            5008       37036             2  ...  NaN NaN  NaN\n",
       "2            5016       37143            20  ...  NaN NaN  NaN\n",
       "3            5022       37237           500  ...  NaN NaN  NaN\n",
       "4            5055       37425            15  ...  NaN NaN  NaN\n",
       "\n",
       "[5 rows x 35 columns]"
      ]
     },
     "execution_count": 2,
     "metadata": {
      "tags": []
     },
     "output_type": "execute_result"
    }
   ],
   "source": [
    "volunteer = pd.read_csv('https://assets.datacamp.com/production/repositories/1816/datasets/668b96955d8b252aa8439c7602d516634e3f015e/volunteer_opportunities.csv')\n",
    "volunteer.head()"
   ]
  },
  {
   "cell_type": "markdown",
   "metadata": {
    "id": "9xQqK_I1-xjq"
   },
   "source": [
    "## Missing data "
   ]
  },
  {
   "cell_type": "markdown",
   "metadata": {
    "id": "VArvbMvB-xjr"
   },
   "source": [
    "### Columns"
   ]
  },
  {
   "cell_type": "code",
   "execution_count": null,
   "metadata": {
    "ExecuteTime": {
     "end_time": "2019-03-07T05:56:37.052378Z",
     "start_time": "2019-03-07T05:56:37.045766Z"
    },
    "id": "6EEihIoW-xjr",
    "outputId": "64eb0492-a653-4c1e-ac60-d006423b1921"
   },
   "outputs": [
    {
     "name": "stdout",
     "output_type": "stream",
     "text": [
      "35\n",
      "24\n"
     ]
    }
   ],
   "source": [
    "print(len(volunteer.columns))\n",
    "print(len(volunteer.dropna(axis=1, thresh=3).columns)) # missing vlaue가 3개 이상인 열 제거"
   ]
  },
  {
   "cell_type": "markdown",
   "metadata": {
    "id": "nEKeLBY9-xjr"
   },
   "source": [
    "### Row"
   ]
  },
  {
   "cell_type": "code",
   "execution_count": null,
   "metadata": {
    "ExecuteTime": {
     "end_time": "2019-03-07T06:00:36.776645Z",
     "start_time": "2019-03-07T06:00:36.771417Z"
    },
    "id": "dOXDaTVj-xjs",
    "outputId": "1fc68a03-dc71-45bc-f6f3-0017402def46"
   },
   "outputs": [
    {
     "name": "stdout",
     "output_type": "stream",
     "text": [
      "48\n",
      "(617, 35)\n"
     ]
    }
   ],
   "source": [
    "print(volunteer.category_desc.isna().sum())\n",
    "volunteer_subset = volunteer[volunteer.category_desc.notnull()] # missing value가 없는 행만 추출\n",
    "print(volunteer_subset.shape)"
   ]
  },
  {
   "cell_type": "markdown",
   "metadata": {
    "id": "_Tv0p7Bb-xjt"
   },
   "source": [
    "### Working with data types"
   ]
  },
  {
   "cell_type": "code",
   "execution_count": null,
   "metadata": {
    "ExecuteTime": {
     "end_time": "2019-03-07T06:07:09.276289Z",
     "start_time": "2019-03-07T06:07:09.270449Z"
    },
    "id": "d7DZroU7-xjt",
    "outputId": "e1b22352-fc32-40ae-bca9-4bf921002693"
   },
   "outputs": [
    {
     "data": {
      "text/plain": [
       "opportunity_id          int64\n",
       "content_id              int64\n",
       "vol_requests            int64\n",
       "event_time              int64\n",
       "title                  object\n",
       "hits                    int64\n",
       "summary                object\n",
       "is_priority            object\n",
       "category_id           float64\n",
       "category_desc          object\n",
       "amsl                  float64\n",
       "amsl_unit             float64\n",
       "org_title              object\n",
       "org_content_id          int64\n",
       "addresses_count         int64\n",
       "locality               object\n",
       "region                 object\n",
       "postalcode            float64\n",
       "primary_loc           float64\n",
       "display_url            object\n",
       "recurrence_type        object\n",
       "hours                   int64\n",
       "created_date           object\n",
       "last_modified_date     object\n",
       "start_date_date        object\n",
       "end_date_date          object\n",
       "status                 object\n",
       "Latitude              float64\n",
       "Longitude             float64\n",
       "Community Board       float64\n",
       "Community Council     float64\n",
       "Census Tract          float64\n",
       "BIN                   float64\n",
       "BBL                   float64\n",
       "NTA                   float64\n",
       "dtype: object"
      ]
     },
     "execution_count": 7,
     "metadata": {
      "tags": []
     },
     "output_type": "execute_result"
    }
   ],
   "source": [
    "volunteer.dtypes"
   ]
  },
  {
   "cell_type": "markdown",
   "metadata": {
    "id": "1wGIOeNw-xjt"
   },
   "source": [
    "### Class distribution"
   ]
  },
  {
   "cell_type": "markdown",
   "metadata": {
    "id": "wTwpNCYf-xju"
   },
   "source": [
    "* Default splitting parameters of train_test_split will work well in many scenarios.\n",
    "* However, if your label have an uneven distribution, yout test and training sets might not be representative samples of your dataset and could bias the model you're trying to train.\n",
    "* A good technique for sampling more accurately when you have inbalanced classes is **stratified sampling**, which is a way of sampling that takes into account the distribution of classes or features in your dataset."
   ]
  },
  {
   "cell_type": "code",
   "execution_count": null,
   "metadata": {
    "ExecuteTime": {
     "end_time": "2019-03-07T06:22:38.912678Z",
     "start_time": "2019-03-07T06:22:38.906146Z"
    },
    "id": "0G8OEa_N-xju",
    "outputId": "3bd885fd-424b-4b0d-eeec-af4f81677873"
   },
   "outputs": [
    {
     "data": {
      "text/plain": [
       "Strengthening Communities    307\n",
       "Helping Neighbors in Need    119\n",
       "Education                     92\n",
       "Health                        52\n",
       "Environment                   32\n",
       "Emergency Preparedness        15\n",
       "Name: category_desc, dtype: int64"
      ]
     },
     "execution_count": 8,
     "metadata": {
      "tags": []
     },
     "output_type": "execute_result"
    }
   ],
   "source": [
    "volunteer.category_desc.value_counts() ## Environment and Emergency Preparedness is less than 50"
   ]
  },
  {
   "cell_type": "code",
   "execution_count": null,
   "metadata": {
    "ExecuteTime": {
     "end_time": "2019-03-07T06:28:27.439766Z",
     "start_time": "2019-03-07T06:28:27.431576Z"
    },
    "id": "0q06QUQr-xju"
   },
   "outputs": [],
   "source": [
    "from sklearn.model_selection import train_test_split"
   ]
  },
  {
   "cell_type": "code",
   "execution_count": null,
   "metadata": {
    "ExecuteTime": {
     "end_time": "2019-03-07T06:31:28.873920Z",
     "start_time": "2019-03-07T06:31:28.856624Z"
    },
    "id": "see3_LJU-xjv",
    "outputId": "279a67c7-770d-451d-cd7d-51b7f6d5dd3e"
   },
   "outputs": [
    {
     "name": "stdout",
     "output_type": "stream",
     "text": [
      "Strengthening Communities    230\n",
      "Helping Neighbors in Need     89\n",
      "Education                     69\n",
      "Health                        39\n",
      "Environment                   24\n",
      "Emergency Preparedness        11\n",
      "Name: category_desc, dtype: int64\n"
     ]
    }
   ],
   "source": [
    "volunteer_X = volunteer.drop('category_desc', axis = 1)\n",
    "volunteer_y = volunteer[['category_desc']]\n",
    "\n",
    "X_train, X_test, y_train, y_test = train_test_split(volunteer_X, volunteer_y, stratify=volunteer_y) # 75%\n",
    "print(y_train['category_desc'].value_counts())"
   ]
  },
  {
   "cell_type": "markdown",
   "metadata": {
    "ExecuteTime": {
     "end_time": "2019-03-07T06:31:55.461119Z",
     "start_time": "2019-03-07T06:31:55.457101Z"
    },
    "id": "fruql4uR-xjv"
   },
   "source": [
    "## Standardizing data"
   ]
  },
  {
   "cell_type": "markdown",
   "metadata": {
    "id": "Vtoj0Hr9-xjv"
   },
   "source": [
    "* Lots of numerical noise in data, such as lots of variance or differently-scaled data.\n",
    "    * The preprocessing solution for that is **Standardization**, which is a method used to transform continuous data to make it look normally distributed.\n",
    "* Scikit-learn models assume normally distributed data.\n",
    "    * If it isn't, you risk biasing your model.\n",
    "* If you're working with any kind of model that uses a linear distance metric or operates in a linear space like a K-nearest neighbors, linear regression, or K-means clustering, the model is assuming the data and features you're giving it are related in a linear fashion, or can be measured with a linear distance metric.\n",
    "    * The case whan a feature or features in your dataset have a high variance is related to this.\n",
    "    * This could bias a model that assumes the data is normally distributed.\n",
    "* If a feature in your dataset has a variance that's an order of magnitude or more greater than the other features, this could impact the model's ability to learn from other features in the dataset.\n",
    "* Modeling a dataset that contains continuous features that are on different sacles is another scenario to watch out for.\n",
    "    * e.g. consider a dataset that contains a column related to height and another related to weight. In order to compare these features, they must be in the same linear space, and therefore must be standardized in some way."
   ]
  },
  {
   "cell_type": "code",
   "execution_count": null,
   "metadata": {
    "ExecuteTime": {
     "end_time": "2019-03-07T07:21:31.886054Z",
     "start_time": "2019-03-07T07:21:30.476229Z"
    },
    "id": "C-quPgN1-xjw",
    "outputId": "6c15a7cc-db60-4f48-b4dd-054096909ee3"
   },
   "outputs": [
    {
     "data": {
      "text/html": [
       "<div>\n",
       "<style scoped>\n",
       "    .dataframe tbody tr th:only-of-type {\n",
       "        vertical-align: middle;\n",
       "    }\n",
       "\n",
       "    .dataframe tbody tr th {\n",
       "        vertical-align: top;\n",
       "    }\n",
       "\n",
       "    .dataframe thead th {\n",
       "        text-align: right;\n",
       "    }\n",
       "</style>\n",
       "<table border=\"1\" class=\"dataframe\">\n",
       "  <thead>\n",
       "    <tr style=\"text-align: right;\">\n",
       "      <th></th>\n",
       "      <th>Type</th>\n",
       "      <th>Alcohol</th>\n",
       "      <th>Malic acid</th>\n",
       "      <th>Ash</th>\n",
       "      <th>Alcalinity of ash</th>\n",
       "      <th>Magnesium</th>\n",
       "      <th>Total phenols</th>\n",
       "      <th>Flavanoids</th>\n",
       "      <th>Nonflavanoid phenols</th>\n",
       "      <th>Proanthocyanins</th>\n",
       "      <th>Color intensity</th>\n",
       "      <th>Hue</th>\n",
       "      <th>OD280/OD315 of diluted wines</th>\n",
       "      <th>Proline</th>\n",
       "    </tr>\n",
       "  </thead>\n",
       "  <tbody>\n",
       "    <tr>\n",
       "      <th>0</th>\n",
       "      <td>1</td>\n",
       "      <td>14.23</td>\n",
       "      <td>1.71</td>\n",
       "      <td>2.43</td>\n",
       "      <td>15.6</td>\n",
       "      <td>127</td>\n",
       "      <td>2.80</td>\n",
       "      <td>3.06</td>\n",
       "      <td>0.28</td>\n",
       "      <td>2.29</td>\n",
       "      <td>5.64</td>\n",
       "      <td>1.04</td>\n",
       "      <td>3.92</td>\n",
       "      <td>1065</td>\n",
       "    </tr>\n",
       "    <tr>\n",
       "      <th>1</th>\n",
       "      <td>1</td>\n",
       "      <td>13.20</td>\n",
       "      <td>1.78</td>\n",
       "      <td>2.14</td>\n",
       "      <td>11.2</td>\n",
       "      <td>100</td>\n",
       "      <td>2.65</td>\n",
       "      <td>2.76</td>\n",
       "      <td>0.26</td>\n",
       "      <td>1.28</td>\n",
       "      <td>4.38</td>\n",
       "      <td>1.05</td>\n",
       "      <td>3.40</td>\n",
       "      <td>1050</td>\n",
       "    </tr>\n",
       "    <tr>\n",
       "      <th>2</th>\n",
       "      <td>1</td>\n",
       "      <td>13.16</td>\n",
       "      <td>2.36</td>\n",
       "      <td>2.67</td>\n",
       "      <td>18.6</td>\n",
       "      <td>101</td>\n",
       "      <td>2.80</td>\n",
       "      <td>3.24</td>\n",
       "      <td>0.30</td>\n",
       "      <td>2.81</td>\n",
       "      <td>5.68</td>\n",
       "      <td>1.03</td>\n",
       "      <td>3.17</td>\n",
       "      <td>1185</td>\n",
       "    </tr>\n",
       "    <tr>\n",
       "      <th>3</th>\n",
       "      <td>1</td>\n",
       "      <td>14.37</td>\n",
       "      <td>1.95</td>\n",
       "      <td>2.50</td>\n",
       "      <td>16.8</td>\n",
       "      <td>113</td>\n",
       "      <td>3.85</td>\n",
       "      <td>3.49</td>\n",
       "      <td>0.24</td>\n",
       "      <td>2.18</td>\n",
       "      <td>7.80</td>\n",
       "      <td>0.86</td>\n",
       "      <td>3.45</td>\n",
       "      <td>1480</td>\n",
       "    </tr>\n",
       "    <tr>\n",
       "      <th>4</th>\n",
       "      <td>1</td>\n",
       "      <td>13.24</td>\n",
       "      <td>2.59</td>\n",
       "      <td>2.87</td>\n",
       "      <td>21.0</td>\n",
       "      <td>118</td>\n",
       "      <td>2.80</td>\n",
       "      <td>2.69</td>\n",
       "      <td>0.39</td>\n",
       "      <td>1.82</td>\n",
       "      <td>4.32</td>\n",
       "      <td>1.04</td>\n",
       "      <td>2.93</td>\n",
       "      <td>735</td>\n",
       "    </tr>\n",
       "  </tbody>\n",
       "</table>\n",
       "</div>"
      ],
      "text/plain": [
       "   Type  Alcohol  Malic acid   Ash  Alcalinity of ash  Magnesium  \\\n",
       "0     1    14.23        1.71  2.43               15.6        127   \n",
       "1     1    13.20        1.78  2.14               11.2        100   \n",
       "2     1    13.16        2.36  2.67               18.6        101   \n",
       "3     1    14.37        1.95  2.50               16.8        113   \n",
       "4     1    13.24        2.59  2.87               21.0        118   \n",
       "\n",
       "   Total phenols  Flavanoids  Nonflavanoid phenols  Proanthocyanins  \\\n",
       "0           2.80        3.06                  0.28             2.29   \n",
       "1           2.65        2.76                  0.26             1.28   \n",
       "2           2.80        3.24                  0.30             2.81   \n",
       "3           3.85        3.49                  0.24             2.18   \n",
       "4           2.80        2.69                  0.39             1.82   \n",
       "\n",
       "   Color intensity   Hue  OD280/OD315 of diluted wines  Proline  \n",
       "0             5.64  1.04                          3.92     1065  \n",
       "1             4.38  1.05                          3.40     1050  \n",
       "2             5.68  1.03                          3.17     1185  \n",
       "3             7.80  0.86                          3.45     1480  \n",
       "4             4.32  1.04                          2.93      735  "
      ]
     },
     "execution_count": 25,
     "metadata": {
      "tags": []
     },
     "output_type": "execute_result"
    }
   ],
   "source": [
    "wine = pd.read_csv('https://assets.datacamp.com/production/repositories/1816/datasets/9bd5350dfdb481e0f94eeef6acf2663452a8ef8b/wine_types.csv')\n",
    "wine.head()"
   ]
  },
  {
   "cell_type": "code",
   "execution_count": null,
   "metadata": {
    "ExecuteTime": {
     "end_time": "2019-03-07T07:21:32.113113Z",
     "start_time": "2019-03-07T07:21:32.109001Z"
    },
    "id": "qBkIyIXS-xjw"
   },
   "outputs": [],
   "source": [
    "X = wine[['Proline', 'Total phenols', 'Hue', 'Nonflavanoid phenols']]\n",
    "y = wine[['Type']]"
   ]
  },
  {
   "cell_type": "code",
   "execution_count": null,
   "metadata": {
    "ExecuteTime": {
     "end_time": "2019-03-07T07:21:32.337601Z",
     "start_time": "2019-03-07T07:21:32.335589Z"
    },
    "id": "QEAL02WR-xjw"
   },
   "outputs": [],
   "source": [
    "from sklearn.neighbors import KNeighborsClassifier "
   ]
  },
  {
   "cell_type": "code",
   "execution_count": null,
   "metadata": {
    "ExecuteTime": {
     "end_time": "2019-03-07T07:21:32.569875Z",
     "start_time": "2019-03-07T07:21:32.556863Z"
    },
    "id": "VJORoFV--xjw",
    "outputId": "5d94b4fd-fd21-473a-bc99-9b5f3c51ca69"
   },
   "outputs": [
    {
     "name": "stdout",
     "output_type": "stream",
     "text": [
      "0.6444444444444445\n"
     ]
    },
    {
     "name": "stderr",
     "output_type": "stream",
     "text": [
      "/Users/jaeeon/anaconda3/lib/python3.6/site-packages/ipykernel_launcher.py:5: DataConversionWarning: A column-vector y was passed when a 1d array was expected. Please change the shape of y to (n_samples, ), for example using ravel().\n",
      "  \"\"\"\n"
     ]
    }
   ],
   "source": [
    "X_train, X_test, y_train, y_test = train_test_split(X, y)\n",
    "knn = KNeighborsClassifier(algorithm='auto', leaf_size=30, metric='minkowski',\n",
    "                           metric_params=None, n_jobs=1, n_neighbors=5, p=2,\n",
    "                           weights='uniform')\n",
    "knn.fit(X_train, y_train)\n",
    "print(knn.score(X_test, y_test))"
   ]
  },
  {
   "cell_type": "markdown",
   "metadata": {
    "id": "7e8FJ-wU-xjw"
   },
   "source": [
    "### Log normalization\n",
    "* A method for standardizing your data that can be useful when you have a paricular column with high variance\n",
    "* Above exampe, training a K-nearst neighbors classifier on that subset of the wine dataset didn't get a high accuracy score.\n",
    "    * This is because within that subset, the Proline column has extremely high variance, which is affecting the accuracy of the classifier.\n",
    "* Log normalization applies a log transformation to your values, which transforms your values onto a scale that approximates normality.\n",
    "* Takes natural log of each number in the lefthand column, which is simply the exponent you would raise above the mathematical constant *e*(approximately equal to 2.718)to get that number.\n",
    "    * e.g the log of 30 is equal to 3.4, because *e* to the power of 3.4 equals to 30\n",
    "* A good strategy when you care about relative changes in a linear model, when you want to capture the magnitude of change, and when you want to keep everything in the positive space.\n",
    "* A nice way to minimize the variance of a column and make it comparable to other columns for modeling.\n",
    "* Use numpy"
   ]
  },
  {
   "cell_type": "code",
   "execution_count": null,
   "metadata": {
    "ExecuteTime": {
     "end_time": "2019-03-07T07:12:24.037586Z",
     "start_time": "2019-03-07T07:12:24.035024Z"
    },
    "id": "PYT1Ik0_-xjx"
   },
   "outputs": [],
   "source": [
    "import numpy as np"
   ]
  },
  {
   "cell_type": "code",
   "execution_count": null,
   "metadata": {
    "ExecuteTime": {
     "end_time": "2019-03-07T07:13:35.014536Z",
     "start_time": "2019-03-07T07:13:35.010507Z"
    },
    "id": "2Y0_DOSh-xjx",
    "outputId": "741cea55-2646-41d4-987c-ddfb0587f8f4"
   },
   "outputs": [
    {
     "data": {
      "text/plain": [
       "(29.96410004739701, 3.4011973816621555)"
      ]
     },
     "execution_count": 21,
     "metadata": {
      "tags": []
     },
     "output_type": "execute_result"
    }
   ],
   "source": [
    "np.exp(3.4), np.log(30)"
   ]
  },
  {
   "cell_type": "code",
   "execution_count": null,
   "metadata": {
    "ExecuteTime": {
     "end_time": "2019-03-07T07:21:37.937805Z",
     "start_time": "2019-03-07T07:21:37.932560Z"
    },
    "id": "KZBzqyQQ-xjx",
    "outputId": "21ca0436-4243-4df2-d9b0-5ded9c5c2efc"
   },
   "outputs": [
    {
     "data": {
      "text/plain": [
       "Type                                0.600679\n",
       "Alcohol                             0.659062\n",
       "Malic acid                          1.248015\n",
       "Ash                                 0.075265\n",
       "Alcalinity of ash                  11.152686\n",
       "Magnesium                         203.989335\n",
       "Total phenols                       0.391690\n",
       "Flavanoids                          0.997719\n",
       "Nonflavanoid phenols                0.015489\n",
       "Proanthocyanins                     0.327595\n",
       "Color intensity                     5.374449\n",
       "Hue                                 0.052245\n",
       "OD280/OD315 of diluted wines        0.504086\n",
       "Proline                         99166.717355\n",
       "dtype: float64"
      ]
     },
     "execution_count": 29,
     "metadata": {
      "tags": []
     },
     "output_type": "execute_result"
    }
   ],
   "source": [
    "wine.var() ## Proline needs to be standardized"
   ]
  },
  {
   "cell_type": "code",
   "execution_count": null,
   "metadata": {
    "ExecuteTime": {
     "end_time": "2019-03-07T07:21:38.197541Z",
     "start_time": "2019-03-07T07:21:38.193640Z"
    },
    "id": "o127Xwyt-xjx",
    "outputId": "8da2f521-3656-488b-b534-05508d974431"
   },
   "outputs": [
    {
     "name": "stdout",
     "output_type": "stream",
     "text": [
      "0.17231366191842018\n"
     ]
    }
   ],
   "source": [
    "wine['Proline_log'] = np.log(wine['Proline'])\n",
    "print(wine['Proline_log'].var())"
   ]
  },
  {
   "cell_type": "markdown",
   "metadata": {
    "id": "gztDF39N-xjy"
   },
   "source": [
    "### Scaling data for feature comparison(Feature scaling)\n",
    "* A method of standardization that's most useful when you're working with a dataset that contains continuous features that are on different scales and you're using a model that operates in some sort of linear space(like linear regression)\n",
    "* Feature scaling transforms the features so they have a mean of 0 and a variance of 1.\n",
    "    * Make it easier to linearly compare features.\n",
    "* StandardScaler object is that you can apply the same transformation on other data, like a test set, or new data that's part of the same set, for example, without having to rescale everything."
   ]
  },
  {
   "cell_type": "markdown",
   "metadata": {
    "id": "ID0xVTSx-xjy"
   },
   "source": [
    "* Want to use the Ash, Alcalinity of ash, and Magnesium columns in the wine dataset to train a linear model, but it's possible that these columns are all measured in different ways, which would bias a linear model. "
   ]
  },
  {
   "cell_type": "code",
   "execution_count": null,
   "metadata": {
    "ExecuteTime": {
     "end_time": "2019-03-07T07:36:07.601561Z",
     "start_time": "2019-03-07T07:36:07.579351Z"
    },
    "id": "mq71KwXJ-xjy",
    "outputId": "f46cfa4e-96c0-4bb9-c0d0-5cff488b1122"
   },
   "outputs": [
    {
     "data": {
      "text/html": [
       "<div>\n",
       "<style scoped>\n",
       "    .dataframe tbody tr th:only-of-type {\n",
       "        vertical-align: middle;\n",
       "    }\n",
       "\n",
       "    .dataframe tbody tr th {\n",
       "        vertical-align: top;\n",
       "    }\n",
       "\n",
       "    .dataframe thead th {\n",
       "        text-align: right;\n",
       "    }\n",
       "</style>\n",
       "<table border=\"1\" class=\"dataframe\">\n",
       "  <thead>\n",
       "    <tr style=\"text-align: right;\">\n",
       "      <th></th>\n",
       "      <th>Ash</th>\n",
       "      <th>Alcalinity of ash</th>\n",
       "      <th>Magnesium</th>\n",
       "    </tr>\n",
       "  </thead>\n",
       "  <tbody>\n",
       "    <tr>\n",
       "      <th>count</th>\n",
       "      <td>178.000000</td>\n",
       "      <td>178.000000</td>\n",
       "      <td>178.000000</td>\n",
       "    </tr>\n",
       "    <tr>\n",
       "      <th>mean</th>\n",
       "      <td>2.366517</td>\n",
       "      <td>19.494944</td>\n",
       "      <td>99.741573</td>\n",
       "    </tr>\n",
       "    <tr>\n",
       "      <th>std</th>\n",
       "      <td>0.274344</td>\n",
       "      <td>3.339564</td>\n",
       "      <td>14.282484</td>\n",
       "    </tr>\n",
       "    <tr>\n",
       "      <th>min</th>\n",
       "      <td>1.360000</td>\n",
       "      <td>10.600000</td>\n",
       "      <td>70.000000</td>\n",
       "    </tr>\n",
       "    <tr>\n",
       "      <th>25%</th>\n",
       "      <td>2.210000</td>\n",
       "      <td>17.200000</td>\n",
       "      <td>88.000000</td>\n",
       "    </tr>\n",
       "    <tr>\n",
       "      <th>50%</th>\n",
       "      <td>2.360000</td>\n",
       "      <td>19.500000</td>\n",
       "      <td>98.000000</td>\n",
       "    </tr>\n",
       "    <tr>\n",
       "      <th>75%</th>\n",
       "      <td>2.557500</td>\n",
       "      <td>21.500000</td>\n",
       "      <td>107.000000</td>\n",
       "    </tr>\n",
       "    <tr>\n",
       "      <th>max</th>\n",
       "      <td>3.230000</td>\n",
       "      <td>30.000000</td>\n",
       "      <td>162.000000</td>\n",
       "    </tr>\n",
       "  </tbody>\n",
       "</table>\n",
       "</div>"
      ],
      "text/plain": [
       "              Ash  Alcalinity of ash   Magnesium\n",
       "count  178.000000         178.000000  178.000000\n",
       "mean     2.366517          19.494944   99.741573\n",
       "std      0.274344           3.339564   14.282484\n",
       "min      1.360000          10.600000   70.000000\n",
       "25%      2.210000          17.200000   88.000000\n",
       "50%      2.360000          19.500000   98.000000\n",
       "75%      2.557500          21.500000  107.000000\n",
       "max      3.230000          30.000000  162.000000"
      ]
     },
     "execution_count": 32,
     "metadata": {
      "tags": []
     },
     "output_type": "execute_result"
    }
   ],
   "source": [
    "wine[['Ash', 'Alcalinity of ash', 'Magnesium']].describe()"
   ]
  },
  {
   "cell_type": "code",
   "execution_count": null,
   "metadata": {
    "ExecuteTime": {
     "end_time": "2019-03-07T07:37:23.107493Z",
     "start_time": "2019-03-07T07:37:23.104823Z"
    },
    "id": "uvzYZ5yP-xjy"
   },
   "outputs": [],
   "source": [
    "from sklearn.preprocessing import StandardScaler"
   ]
  },
  {
   "cell_type": "markdown",
   "metadata": {
    "id": "TFyquKb6-xjy"
   },
   "source": [
    "* In scikit-learn, running fit_transform during preprocessing will both fit the method to the data as well as transform the data in a single step."
   ]
  },
  {
   "cell_type": "code",
   "execution_count": null,
   "metadata": {
    "ExecuteTime": {
     "end_time": "2019-03-07T07:38:09.524537Z",
     "start_time": "2019-03-07T07:38:09.515827Z"
    },
    "id": "TaclmqnK-xjy",
    "outputId": "a4957913-3260-49ab-cce5-981156195766"
   },
   "outputs": [
    {
     "name": "stderr",
     "output_type": "stream",
     "text": [
      "/Users/jaeeon/anaconda3/lib/python3.6/site-packages/sklearn/preprocessing/data.py:625: DataConversionWarning: Data with input dtype int64, float64 were all converted to float64 by StandardScaler.\n",
      "  return self.partial_fit(X, y)\n",
      "/Users/jaeeon/anaconda3/lib/python3.6/site-packages/sklearn/base.py:462: DataConversionWarning: Data with input dtype int64, float64 were all converted to float64 by StandardScaler.\n",
      "  return self.fit(X, **fit_params).transform(X)\n"
     ]
    }
   ],
   "source": [
    "ss = StandardScaler()\n",
    "wine_subset = wine[['Ash', 'Alcalinity of ash', 'Magnesium']]\n",
    "wine_subset_scaled = ss.fit_transform(wine_subset)"
   ]
  },
  {
   "cell_type": "markdown",
   "metadata": {
    "id": "ljHtsxuv-xjz"
   },
   "source": [
    "### Compare the difference in model performance between scaled and unscaled data\n",
    "* K-nearset neighbors is a model that classifies data based on its distance to training set data.\n",
    "* A new data point is assigned a label based on the class that the majority of surrounding data points belong to."
   ]
  },
  {
   "cell_type": "code",
   "execution_count": null,
   "metadata": {
    "ExecuteTime": {
     "end_time": "2019-03-07T07:45:25.264991Z",
     "start_time": "2019-03-07T07:45:25.260303Z"
    },
    "id": "aqG4Ig-8-xjz"
   },
   "outputs": [],
   "source": [
    "X = wine[['Alcohol', 'Malic acid', 'Ash', 'Alcalinity of ash', 'Magnesium',\n",
    "       'Total phenols', 'Flavanoids', 'Nonflavanoid phenols',\n",
    "       'Proanthocyanins', 'Color intensity', 'Hue',\n",
    "       'OD280/OD315 of diluted wines', 'Proline']]\n",
    "y = wine[['Type']]"
   ]
  },
  {
   "cell_type": "code",
   "execution_count": null,
   "metadata": {
    "ExecuteTime": {
     "end_time": "2019-03-07T07:46:33.662028Z",
     "start_time": "2019-03-07T07:46:33.650735Z"
    },
    "id": "kYnj0TRZ-xj0",
    "outputId": "b9a20f38-f547-4289-9647-d5d8fc9263a4"
   },
   "outputs": [
    {
     "name": "stdout",
     "output_type": "stream",
     "text": [
      "0.6222222222222222\n"
     ]
    },
    {
     "name": "stderr",
     "output_type": "stream",
     "text": [
      "/Users/jaeeon/anaconda3/lib/python3.6/site-packages/ipykernel_launcher.py:3: DataConversionWarning: A column-vector y was passed when a 1d array was expected. Please change the shape of y to (n_samples, ), for example using ravel().\n",
      "  This is separate from the ipykernel package so we can avoid doing imports until\n"
     ]
    }
   ],
   "source": [
    "X_train, X_test, y_train, y_test = train_test_split(X,y)\n",
    "\n",
    "knn.fit(X_train, y_train)\n",
    "\n",
    "print(knn.score(X_test, y_test))"
   ]
  },
  {
   "cell_type": "code",
   "execution_count": null,
   "metadata": {
    "ExecuteTime": {
     "end_time": "2019-03-07T07:47:42.830316Z",
     "start_time": "2019-03-07T07:47:42.817846Z"
    },
    "id": "aPfpQqMJ-xj0",
    "outputId": "593f7631-8093-4d46-806f-6c431f0b33e9"
   },
   "outputs": [
    {
     "name": "stdout",
     "output_type": "stream",
     "text": [
      "0.9777777777777777\n"
     ]
    },
    {
     "name": "stderr",
     "output_type": "stream",
     "text": [
      "/Users/jaeeon/anaconda3/lib/python3.6/site-packages/sklearn/preprocessing/data.py:625: DataConversionWarning: Data with input dtype int64, float64 were all converted to float64 by StandardScaler.\n",
      "  return self.partial_fit(X, y)\n",
      "/Users/jaeeon/anaconda3/lib/python3.6/site-packages/sklearn/base.py:462: DataConversionWarning: Data with input dtype int64, float64 were all converted to float64 by StandardScaler.\n",
      "  return self.fit(X, **fit_params).transform(X)\n",
      "/Users/jaeeon/anaconda3/lib/python3.6/site-packages/ipykernel_launcher.py:6: DataConversionWarning: A column-vector y was passed when a 1d array was expected. Please change the shape of y to (n_samples, ), for example using ravel().\n",
      "  \n"
     ]
    }
   ],
   "source": [
    "ss = StandardScaler()\n",
    "\n",
    "X_scaled = ss.fit_transform(X)\n",
    "X_train, X_test, y_train, y_test = train_test_split(X_scaled, y)\n",
    "\n",
    "knn.fit(X_train, y_train)\n",
    "\n",
    "print(knn.score(X_test, y_test))"
   ]
  },
  {
   "cell_type": "markdown",
   "metadata": {
    "id": "e1pQrcHi-xj0"
   },
   "source": [
    "## Feature engineering"
   ]
  },
  {
   "cell_type": "markdown",
   "metadata": {
    "id": "HiDIanuN-xj0"
   },
   "source": [
    "* Feature engineering is the creation of new features based on existing features, and it adds information to your dataset that is useful in some way: it adds features uesful for your prediction or clustering task, or it sheds insight into relationships between features.\n",
    "* In real world data, you'll likely have to extracy and expand information that exists in the columns in your dataset.\n",
    "* it is also something that is very dependent on the particular dataset you're analyzing\n",
    "* e.g Timestamps can be broken into days or months, and headlines can be used for natural language processing."
   ]
  },
  {
   "cell_type": "code",
   "execution_count": null,
   "metadata": {
    "ExecuteTime": {
     "end_time": "2019-03-07T07:59:25.442167Z",
     "start_time": "2019-03-07T07:59:25.433591Z"
    },
    "id": "ZtgAFLId-xj1",
    "outputId": "4d9eef09-fc93-48a2-a9e2-489088386920"
   },
   "outputs": [
    {
     "data": {
      "text/html": [
       "<div>\n",
       "<style scoped>\n",
       "    .dataframe tbody tr th:only-of-type {\n",
       "        vertical-align: middle;\n",
       "    }\n",
       "\n",
       "    .dataframe tbody tr th {\n",
       "        vertical-align: top;\n",
       "    }\n",
       "\n",
       "    .dataframe thead th {\n",
       "        text-align: right;\n",
       "    }\n",
       "</style>\n",
       "<table border=\"1\" class=\"dataframe\">\n",
       "  <thead>\n",
       "    <tr style=\"text-align: right;\">\n",
       "      <th></th>\n",
       "      <th>title</th>\n",
       "      <th>created_date</th>\n",
       "      <th>category_desc</th>\n",
       "    </tr>\n",
       "  </thead>\n",
       "  <tbody>\n",
       "    <tr>\n",
       "      <th>0</th>\n",
       "      <td>Volunteers Needed For Rise Up &amp; Stay Put! Home...</td>\n",
       "      <td>January 13 2011</td>\n",
       "      <td>NaN</td>\n",
       "    </tr>\n",
       "    <tr>\n",
       "      <th>1</th>\n",
       "      <td>Web designer</td>\n",
       "      <td>January 14 2011</td>\n",
       "      <td>Strengthening Communities</td>\n",
       "    </tr>\n",
       "    <tr>\n",
       "      <th>2</th>\n",
       "      <td>Urban Adventures - Ice Skating at Lasker Rink</td>\n",
       "      <td>January 19 2011</td>\n",
       "      <td>Strengthening Communities</td>\n",
       "    </tr>\n",
       "    <tr>\n",
       "      <th>3</th>\n",
       "      <td>Fight global hunger and support women farmers ...</td>\n",
       "      <td>January 21 2011</td>\n",
       "      <td>Strengthening Communities</td>\n",
       "    </tr>\n",
       "    <tr>\n",
       "      <th>4</th>\n",
       "      <td>Stop 'N' Swap</td>\n",
       "      <td>January 28 2011</td>\n",
       "      <td>Environment</td>\n",
       "    </tr>\n",
       "  </tbody>\n",
       "</table>\n",
       "</div>"
      ],
      "text/plain": [
       "                                               title     created_date  \\\n",
       "0  Volunteers Needed For Rise Up & Stay Put! Home...  January 13 2011   \n",
       "1                                       Web designer  January 14 2011   \n",
       "2      Urban Adventures - Ice Skating at Lasker Rink  January 19 2011   \n",
       "3  Fight global hunger and support women farmers ...  January 21 2011   \n",
       "4                                      Stop 'N' Swap  January 28 2011   \n",
       "\n",
       "               category_desc  \n",
       "0                        NaN  \n",
       "1  Strengthening Communities  \n",
       "2  Strengthening Communities  \n",
       "3  Strengthening Communities  \n",
       "4                Environment  "
      ]
     },
     "execution_count": 40,
     "metadata": {
      "tags": []
     },
     "output_type": "execute_result"
    }
   ],
   "source": [
    "volunteer[['title', 'created_date', 'category_desc']].head()"
   ]
  },
  {
   "cell_type": "markdown",
   "metadata": {
    "id": "8u3UYemi-xj1"
   },
   "source": [
    "### Encoding categorical variables\n",
    "* Because models in scikit-learn require numerical input, if your dataset contains categorical variables, you'll have to encode them\n",
    "\n",
    "#### Binary variable\n",
    "* Use apply method(.apply(lambda~)\n",
    "* LabelEncoder\n",
    "\n",
    "#### One-hot-encodig\n",
    "* Encodes categorical variable into 1s and 0s when you have more than two variables to encode.\n",
    "* Transforming each value into an array."
   ]
  },
  {
   "cell_type": "code",
   "execution_count": null,
   "metadata": {
    "ExecuteTime": {
     "end_time": "2019-03-07T08:07:21.285523Z",
     "start_time": "2019-03-07T08:07:21.282613Z"
    },
    "id": "y12FglXX-xj1"
   },
   "outputs": [],
   "source": [
    "from sklearn.preprocessing import LabelEncoder"
   ]
  },
  {
   "cell_type": "code",
   "execution_count": null,
   "metadata": {
    "ExecuteTime": {
     "end_time": "2019-03-07T08:08:17.536615Z",
     "start_time": "2019-03-07T08:08:16.121426Z"
    },
    "colab": {
     "base_uri": "https://localhost:8080/",
     "height": 289
    },
    "id": "ySKKlNr_-xj1",
    "outputId": "f02ff0ad-473a-4b36-8837-ba0cdaeae7ff"
   },
   "outputs": [
    {
     "data": {
      "text/html": [
       "<div>\n",
       "<style scoped>\n",
       "    .dataframe tbody tr th:only-of-type {\n",
       "        vertical-align: middle;\n",
       "    }\n",
       "\n",
       "    .dataframe tbody tr th {\n",
       "        vertical-align: top;\n",
       "    }\n",
       "\n",
       "    .dataframe thead th {\n",
       "        text-align: right;\n",
       "    }\n",
       "</style>\n",
       "<table border=\"1\" class=\"dataframe\">\n",
       "  <thead>\n",
       "    <tr style=\"text-align: right;\">\n",
       "      <th></th>\n",
       "      <th>Prop_ID</th>\n",
       "      <th>Name</th>\n",
       "      <th>Location</th>\n",
       "      <th>Park_Name</th>\n",
       "      <th>Length</th>\n",
       "      <th>Difficulty</th>\n",
       "      <th>Other_Details</th>\n",
       "      <th>Accessible</th>\n",
       "      <th>Limited_Access</th>\n",
       "      <th>lat</th>\n",
       "      <th>lon</th>\n",
       "    </tr>\n",
       "  </thead>\n",
       "  <tbody>\n",
       "    <tr>\n",
       "      <th>0</th>\n",
       "      <td>B057</td>\n",
       "      <td>Salt Marsh Nature Trail</td>\n",
       "      <td>Enter behind the Salt Marsh Nature Center, loc...</td>\n",
       "      <td>Marine Park</td>\n",
       "      <td>0.8 miles</td>\n",
       "      <td>None</td>\n",
       "      <td>&lt;p&gt;The first half of this mile-long trail foll...</td>\n",
       "      <td>Y</td>\n",
       "      <td>N</td>\n",
       "      <td>NaN</td>\n",
       "      <td>NaN</td>\n",
       "    </tr>\n",
       "    <tr>\n",
       "      <th>1</th>\n",
       "      <td>B073</td>\n",
       "      <td>Lullwater</td>\n",
       "      <td>Enter Park at Lincoln Road and Ocean Avenue en...</td>\n",
       "      <td>Prospect Park</td>\n",
       "      <td>1.0 mile</td>\n",
       "      <td>Easy</td>\n",
       "      <td>Explore the Lullwater to see how nature thrive...</td>\n",
       "      <td>N</td>\n",
       "      <td>N</td>\n",
       "      <td>NaN</td>\n",
       "      <td>NaN</td>\n",
       "    </tr>\n",
       "    <tr>\n",
       "      <th>2</th>\n",
       "      <td>B073</td>\n",
       "      <td>Midwood</td>\n",
       "      <td>Enter Park at Lincoln Road and Ocean Avenue en...</td>\n",
       "      <td>Prospect Park</td>\n",
       "      <td>0.75 miles</td>\n",
       "      <td>Easy</td>\n",
       "      <td>Step back in time with a walk through Brooklyn...</td>\n",
       "      <td>N</td>\n",
       "      <td>N</td>\n",
       "      <td>NaN</td>\n",
       "      <td>NaN</td>\n",
       "    </tr>\n",
       "    <tr>\n",
       "      <th>3</th>\n",
       "      <td>B073</td>\n",
       "      <td>Peninsula</td>\n",
       "      <td>Enter Park at Lincoln Road and Ocean Avenue en...</td>\n",
       "      <td>Prospect Park</td>\n",
       "      <td>0.5 miles</td>\n",
       "      <td>Easy</td>\n",
       "      <td>Discover how the Peninsula has changed over th...</td>\n",
       "      <td>N</td>\n",
       "      <td>N</td>\n",
       "      <td>NaN</td>\n",
       "      <td>NaN</td>\n",
       "    </tr>\n",
       "    <tr>\n",
       "      <th>4</th>\n",
       "      <td>B073</td>\n",
       "      <td>Waterfall</td>\n",
       "      <td>Enter Park at Lincoln Road and Ocean Avenue en...</td>\n",
       "      <td>Prospect Park</td>\n",
       "      <td>0.5 miles</td>\n",
       "      <td>Easy</td>\n",
       "      <td>Trace the source of the Lake on the Waterfall ...</td>\n",
       "      <td>N</td>\n",
       "      <td>N</td>\n",
       "      <td>NaN</td>\n",
       "      <td>NaN</td>\n",
       "    </tr>\n",
       "  </tbody>\n",
       "</table>\n",
       "</div>"
      ],
      "text/plain": [
       "  Prop_ID                     Name  ... lat lon\n",
       "0    B057  Salt Marsh Nature Trail  ... NaN NaN\n",
       "1    B073                Lullwater  ... NaN NaN\n",
       "2    B073                  Midwood  ... NaN NaN\n",
       "3    B073                Peninsula  ... NaN NaN\n",
       "4    B073                Waterfall  ... NaN NaN\n",
       "\n",
       "[5 rows x 11 columns]"
      ]
     },
     "execution_count": 3,
     "metadata": {
      "tags": []
     },
     "output_type": "execute_result"
    }
   ],
   "source": [
    "hiking = pd.read_json('https://assets.datacamp.com/production/repositories/1816/datasets/4f26c48451bdbf73db8a58e226cd3d6b45cf7bb5/hiking.json')\n",
    "hiking.head()"
   ]
  },
  {
   "cell_type": "code",
   "execution_count": null,
   "metadata": {
    "ExecuteTime": {
     "end_time": "2019-03-07T08:09:44.553831Z",
     "start_time": "2019-03-07T08:09:44.547746Z"
    },
    "id": "UFT3gIm8-xj1",
    "outputId": "dfadb591-4c44-499e-dde7-8f6adf3c9c77"
   },
   "outputs": [
    {
     "name": "stdout",
     "output_type": "stream",
     "text": [
      "  Accessible  Accessible_enc\n",
      "0          Y               1\n",
      "1          N               0\n",
      "2          N               0\n",
      "3          N               0\n",
      "4          N               0\n"
     ]
    }
   ],
   "source": [
    "enc = LabelEncoder()\n",
    "\n",
    "hiking['Accessible_enc'] = enc.fit_transform(hiking['Accessible'])\n",
    "\n",
    "print(hiking[['Accessible', 'Accessible_enc']].head())"
   ]
  },
  {
   "cell_type": "code",
   "execution_count": null,
   "metadata": {
    "ExecuteTime": {
     "end_time": "2019-03-07T08:12:02.242690Z",
     "start_time": "2019-03-07T08:12:02.236386Z"
    },
    "id": "Ff7Ugkv7-xj1",
    "outputId": "ed225811-76e9-48c9-bf0b-99861e89b63b"
   },
   "outputs": [
    {
     "name": "stdout",
     "output_type": "stream",
     "text": [
      "   Education  Emergency Preparedness  Environment  Health  \\\n",
      "0          0                       0            0       0   \n",
      "1          0                       0            0       0   \n",
      "2          0                       0            0       0   \n",
      "3          0                       0            0       0   \n",
      "4          0                       0            1       0   \n",
      "\n",
      "   Helping Neighbors in Need  Strengthening Communities  \n",
      "0                          0                          0  \n",
      "1                          0                          1  \n",
      "2                          0                          1  \n",
      "3                          0                          1  \n",
      "4                          0                          0  \n"
     ]
    }
   ],
   "source": [
    "category_enc = pd.get_dummies(volunteer['category_desc'])\n",
    "\n",
    "print(category_enc.head())"
   ]
  },
  {
   "cell_type": "markdown",
   "metadata": {
    "id": "5xnbvhPh-xj2"
   },
   "source": [
    "### Engineering numerical features\n",
    "#### Aggregate statistics\n",
    "* A common method of feature engineering is to take an aggregate of a set of numbers to use in place of those features\n",
    "    * This can be helpful in reducing dimensionality of your feature space \n",
    "    * Perhaps you don't need multiple similar values that are close in distance to each other.\n",
    "* Date and timestamps are another area where you might want to reduce granuality in dataset.\n",
    "    * In a prediction task, you may need high-level information like the month or the year , or both."
   ]
  },
  {
   "cell_type": "code",
   "execution_count": null,
   "metadata": {
    "ExecuteTime": {
     "end_time": "2019-03-07T08:24:10.913139Z",
     "start_time": "2019-03-07T08:24:10.828722Z"
    },
    "id": "2CFnfjfs-xj2",
    "outputId": "aa642a6a-adb5-4a4f-c16e-3b81b2ce5b63"
   },
   "outputs": [
    {
     "name": "stdout",
     "output_type": "stream",
     "text": [
      "  start_date_converted  start_date_month\n",
      "0           2011-07-30                 7\n",
      "1           2011-02-01                 2\n",
      "2           2011-01-29                 1\n",
      "3           2011-02-14                 2\n",
      "4           2011-02-05                 2\n"
     ]
    }
   ],
   "source": [
    "volunteer[\"start_date_converted\"] = pd.to_datetime(volunteer.start_date_date)\n",
    "\n",
    "volunteer[\"start_date_month\"] = volunteer[\"start_date_converted\"].apply(lambda row: row.month)\n",
    "\n",
    "print(volunteer[['start_date_converted', 'start_date_month']].head())"
   ]
  },
  {
   "cell_type": "markdown",
   "metadata": {
    "id": "H-r84P10-xj2"
   },
   "source": [
    "#### Text classification\n",
    "* The way extracting from strings is using regular expressions.\n",
    "    * Regex is patterns that can be used to extract patterns from text data.\n",
    "* **Vectorizing text**\n",
    "    * tf/idf is a way of vectorizing text that reflects how important a word is in a document beyond how frequently it occurs.\n",
    "    * It stands for term frequency(tf) inverse document frequency(idf) and places the weight on words that are ultimately more significant in the entire corpus of words.\n",
    "* Now we have a vectorized version of text, we can use it for classification.\n",
    "![pic](./naivebayes.png)\n",
    "    * Use a naive Bayes classifier, which is based on Bayes' theorm of conditional probability\n",
    "    * Performs well on text classification tasks!\n",
    "    * Naive Bayes treats each feature as independent from the others, which can be a naive assumption, but this work out well on text data.\n",
    "    * Because each featrue is treated independently, this classifier works well on high-dimensional data and is very efficient."
   ]
  },
  {
   "cell_type": "code",
   "execution_count": null,
   "metadata": {
    "ExecuteTime": {
     "end_time": "2019-03-07T11:25:27.361310Z",
     "start_time": "2019-03-07T11:25:27.353462Z"
    },
    "id": "c5aMTGGM-xj2",
    "outputId": "a0341b12-4a7f-40bb-dab5-b6033b90d0f1"
   },
   "outputs": [
    {
     "name": "stdout",
     "output_type": "stream",
     "text": [
      "       Length  Length_num\n",
      "0   0.8 miles        0.80\n",
      "1    1.0 mile        1.00\n",
      "2  0.75 miles        0.75\n",
      "3   0.5 miles        0.50\n",
      "4   0.5 miles        0.50\n"
     ]
    }
   ],
   "source": [
    "import re\n",
    "\n",
    "def return_mileage(length):\n",
    "    pattern = re.compile(r\"\\d+\\.\\d+\")\n",
    "    \n",
    "    mile = re.match(pattern, length)\n",
    "    \n",
    "    # If a value is returned, use group(0) to return the found value\n",
    "    if mile is not None:\n",
    "        return float(mile.group())\n",
    "        \n",
    "\n",
    "hiking[\"Length_num\"] = hiking[\"Length\"].map(lambda row: return_mileage(str(row)))\n",
    "print(hiking[[\"Length\", \"Length_num\"]].head())"
   ]
  },
  {
   "cell_type": "code",
   "execution_count": null,
   "metadata": {
    "ExecuteTime": {
     "end_time": "2019-03-07T11:25:07.415801Z",
     "start_time": "2019-03-07T11:25:07.412278Z"
    },
    "id": "19OyDHyF-xj2"
   },
   "outputs": [],
   "source": [
    "def return_m(length):\n",
    "    pattern = re.compile(r\"\\d+\\.\\d+\")\n",
    "    \n",
    "    mile = re.match(pattern, length)\n",
    "    \n",
    "    # If a value is returned, use group(0) to return the found value\n",
    "    if mile is not None:\n",
    "        print(float(mile.group()))\n",
    "        "
   ]
  },
  {
   "cell_type": "code",
   "execution_count": null,
   "metadata": {
    "ExecuteTime": {
     "end_time": "2019-03-07T11:25:11.238731Z",
     "start_time": "2019-03-07T11:25:11.234286Z"
    },
    "id": "cf_9VxhP-xj2",
    "outputId": "1367bb03-9337-4446-d41c-fc24207f7978"
   },
   "outputs": [
    {
     "data": {
      "text/plain": [
       "'0.8'"
      ]
     },
     "execution_count": 88,
     "metadata": {
      "tags": []
     },
     "output_type": "execute_result"
    }
   ],
   "source": [
    "pattern = re.compile(r\"\\d+\\.\\d+\")\n",
    "mile = re.match(pattern, hiking.Length[0])\n",
    "mile.group()"
   ]
  },
  {
   "cell_type": "code",
   "execution_count": null,
   "metadata": {
    "ExecuteTime": {
     "end_time": "2019-03-07T11:11:53.753353Z",
     "start_time": "2019-03-07T11:11:53.750842Z"
    },
    "id": "IPDVOrs6-xj3"
   },
   "outputs": [],
   "source": [
    "from sklearn.feature_extraction.text import TfidfVectorizer"
   ]
  },
  {
   "cell_type": "code",
   "execution_count": null,
   "metadata": {
    "ExecuteTime": {
     "end_time": "2019-03-08T05:29:51.633756Z",
     "start_time": "2019-03-08T05:29:51.614254Z"
    },
    "id": "dbc5VcbO-xj3"
   },
   "outputs": [],
   "source": [
    "volunteer = volunteer[['title', 'category_desc']].dropna(axis=0)\n",
    "\n",
    "title_text = volunteer['title']\n",
    "\n",
    "tfidf_vec = TfidfVectorizer()\n",
    "\n",
    "text_tfidf = tfidf_vec.fit_transform(title_text)"
   ]
  },
  {
   "cell_type": "code",
   "execution_count": null,
   "metadata": {
    "ExecuteTime": {
     "end_time": "2019-03-08T05:29:51.961280Z",
     "start_time": "2019-03-08T05:29:51.937340Z"
    },
    "id": "HjSpqwaF-xj3",
    "outputId": "3eb09cb1-d1db-4777-bdd4-bbbd7a8af59c"
   },
   "outputs": [
    {
     "name": "stdout",
     "output_type": "stream",
     "text": [
      "0.5161290322580645\n"
     ]
    }
   ],
   "source": [
    "from sklearn.naive_bayes import GaussianNB\n",
    "\n",
    "y = volunteer['category_desc']\n",
    "\n",
    "X_train, X_test, y_train, y_test = train_test_split(text_tfidf.toarray(), y, stratify=y)\n",
    "\n",
    "nb = GaussianNB()\n",
    "nb.fit(X_train, y_train)\n",
    "print(nb.score(X_test, y_test))"
   ]
  },
  {
   "cell_type": "markdown",
   "metadata": {
    "id": "1cKp3EVP-xj3"
   },
   "source": [
    "## Feature selection"
   ]
  },
  {
   "cell_type": "markdown",
   "metadata": {
    "id": "AaVu8GXH-xj3"
   },
   "source": [
    "* A method of selecting features from your feature set to be used for modeling.\n",
    "* Draws from a set of existing features, so it's different than feature engineering because it doesn't create new features.\n",
    "* Sometiems it helps to get rid of noise in your model\n",
    "    * features that strongly statistically correlated, which breaks the assumption of certain models and thus impact model performance.\n",
    "* The overarching goal of feature selection is to improve model's performance.\n",
    "    * Perhaps your exisiting feature set is much too large, or some of the features you're working with are unneccessary.\n",
    "* Scikit-learn has several methods for automated feature selection, such as choosing a variance threshold and using univariate statistical tests."
   ]
  },
  {
   "cell_type": "markdown",
   "metadata": {
    "id": "nooZ_dfH-xj3"
   },
   "source": [
    "### Removing redundant features\n",
    "* Remove noisy features\n",
    "* Remove strongly correlated features\n",
    "* Remove duplicated features"
   ]
  },
  {
   "cell_type": "code",
   "execution_count": null,
   "metadata": {
    "ExecuteTime": {
     "end_time": "2019-03-08T05:05:51.516160Z",
     "start_time": "2019-03-08T05:05:51.512521Z"
    },
    "id": "XXjLXcJM-xj3"
   },
   "outputs": [],
   "source": [
    "wine2 = wine[['Flavanoids', 'Total phenols', 'Malic acid',\n",
    "              'OD280/OD315 of diluted wines', 'Hue']]"
   ]
  },
  {
   "cell_type": "code",
   "execution_count": null,
   "metadata": {
    "ExecuteTime": {
     "end_time": "2019-03-08T05:07:05.118756Z",
     "start_time": "2019-03-08T05:07:05.109128Z"
    },
    "id": "0fBj4jy5-xj3",
    "outputId": "3ea6811d-092e-4799-9cdb-b567c2982c7c"
   },
   "outputs": [
    {
     "data": {
      "text/html": [
       "<div>\n",
       "<style scoped>\n",
       "    .dataframe tbody tr th:only-of-type {\n",
       "        vertical-align: middle;\n",
       "    }\n",
       "\n",
       "    .dataframe tbody tr th {\n",
       "        vertical-align: top;\n",
       "    }\n",
       "\n",
       "    .dataframe thead th {\n",
       "        text-align: right;\n",
       "    }\n",
       "</style>\n",
       "<table border=\"1\" class=\"dataframe\">\n",
       "  <thead>\n",
       "    <tr style=\"text-align: right;\">\n",
       "      <th></th>\n",
       "      <th>Flavanoids</th>\n",
       "      <th>Total phenols</th>\n",
       "      <th>Malic acid</th>\n",
       "      <th>OD280/OD315 of diluted wines</th>\n",
       "      <th>Hue</th>\n",
       "    </tr>\n",
       "  </thead>\n",
       "  <tbody>\n",
       "    <tr>\n",
       "      <th>Flavanoids</th>\n",
       "      <td>1.000000</td>\n",
       "      <td>0.864564</td>\n",
       "      <td>-0.411007</td>\n",
       "      <td>0.787194</td>\n",
       "      <td>0.543479</td>\n",
       "    </tr>\n",
       "    <tr>\n",
       "      <th>Total phenols</th>\n",
       "      <td>0.864564</td>\n",
       "      <td>1.000000</td>\n",
       "      <td>-0.335167</td>\n",
       "      <td>0.699949</td>\n",
       "      <td>0.433681</td>\n",
       "    </tr>\n",
       "    <tr>\n",
       "      <th>Malic acid</th>\n",
       "      <td>-0.411007</td>\n",
       "      <td>-0.335167</td>\n",
       "      <td>1.000000</td>\n",
       "      <td>-0.368710</td>\n",
       "      <td>-0.561296</td>\n",
       "    </tr>\n",
       "    <tr>\n",
       "      <th>OD280/OD315 of diluted wines</th>\n",
       "      <td>0.787194</td>\n",
       "      <td>0.699949</td>\n",
       "      <td>-0.368710</td>\n",
       "      <td>1.000000</td>\n",
       "      <td>0.565468</td>\n",
       "    </tr>\n",
       "    <tr>\n",
       "      <th>Hue</th>\n",
       "      <td>0.543479</td>\n",
       "      <td>0.433681</td>\n",
       "      <td>-0.561296</td>\n",
       "      <td>0.565468</td>\n",
       "      <td>1.000000</td>\n",
       "    </tr>\n",
       "  </tbody>\n",
       "</table>\n",
       "</div>"
      ],
      "text/plain": [
       "                              Flavanoids  Total phenols  Malic acid  \\\n",
       "Flavanoids                      1.000000       0.864564   -0.411007   \n",
       "Total phenols                   0.864564       1.000000   -0.335167   \n",
       "Malic acid                     -0.411007      -0.335167    1.000000   \n",
       "OD280/OD315 of diluted wines    0.787194       0.699949   -0.368710   \n",
       "Hue                             0.543479       0.433681   -0.561296   \n",
       "\n",
       "                              OD280/OD315 of diluted wines       Hue  \n",
       "Flavanoids                                        0.787194  0.543479  \n",
       "Total phenols                                     0.699949  0.433681  \n",
       "Malic acid                                       -0.368710 -0.561296  \n",
       "OD280/OD315 of diluted wines                      1.000000  0.565468  \n",
       "Hue                                               0.565468  1.000000  "
      ]
     },
     "execution_count": 99,
     "metadata": {
      "tags": []
     },
     "output_type": "execute_result"
    }
   ],
   "source": [
    "wine2.corr()"
   ]
  },
  {
   "cell_type": "code",
   "execution_count": null,
   "metadata": {
    "ExecuteTime": {
     "end_time": "2019-03-08T05:08:09.721526Z",
     "start_time": "2019-03-08T05:08:09.717180Z"
    },
    "id": "dTAMCjxc-xj3"
   },
   "outputs": [],
   "source": [
    "# Take a minute to find the column where the correlation value is greater than 0.75 at least twice\n",
    "to_drop = \"Flavanoids\"\n",
    "\n",
    "# Drop that column from the DataFrame\n",
    "wine2 = wine2.drop(to_drop, axis=1)"
   ]
  },
  {
   "cell_type": "markdown",
   "metadata": {
    "id": "QPyMRhJm-xj4"
   },
   "source": [
    "#### Selecting features using text vectors\n",
    "* After you've vectorized your text, the vocabulary and weights will be stored in vectorizer.\n",
    "* To pull out the vocabulary list, which you'll need in order to look at word weights, you can use the vocabulary attribute.\n",
    "* Row data contains two components: the word weights and the index of the word.\n",
    "* Before putting together the vocabulary, the word indices, and their weights, we want to reverse the key value pairs in the vocabulary."
   ]
  },
  {
   "cell_type": "code",
   "execution_count": null,
   "metadata": {
    "ExecuteTime": {
     "end_time": "2019-03-08T05:25:20.007515Z",
     "start_time": "2019-03-08T05:25:20.004856Z"
    },
    "id": "RVxWRQ8W-xj4"
   },
   "outputs": [],
   "source": [
    "vocab = {v:k for k,v in tfidf_vec.vocabulary_.items()}"
   ]
  },
  {
   "cell_type": "code",
   "execution_count": null,
   "metadata": {
    "ExecuteTime": {
     "end_time": "2019-03-08T05:25:27.790553Z",
     "start_time": "2019-03-08T05:25:27.783721Z"
    },
    "id": "AbRbU5K2-xj4",
    "outputId": "10ed363a-32a2-4158-85eb-883a97fb40bc",
    "scrolled": true
   },
   "outputs": [
    {
     "name": "stdout",
     "output_type": "stream",
     "text": [
      "[189, 942, 466]\n"
     ]
    }
   ],
   "source": [
    "def return_weights(vocab, original_vocab, vector, vector_index, top_n):\n",
    "    zipped = dict(zip(vector[vector_index].indices, vector[vector_index].data))\n",
    "    \n",
    "    # Let's transform that zipped dict into a series\n",
    "    zipped_series = pd.Series({vocab[i]:zipped[i] for i in vector[vector_index].indices})\n",
    "    \n",
    "    # Let's sort the series to pull out the top n weighted words\n",
    "    zipped_index = zipped_series.sort_values(ascending=False)[:top_n].index\n",
    "    return [original_vocab[i] for i in zipped_index]\n",
    "\n",
    "# Print out the weighted words\n",
    "print(return_weights(vocab, tfidf_vec.vocabulary_, text_tfidf, 8, 3))"
   ]
  },
  {
   "cell_type": "code",
   "execution_count": null,
   "metadata": {
    "ExecuteTime": {
     "end_time": "2019-03-08T05:27:14.867338Z",
     "start_time": "2019-03-08T05:27:14.390563Z"
    },
    "id": "CerGbO_e-xj5"
   },
   "outputs": [],
   "source": [
    "def words_to_filter(vocab, original_vocab, vector, top_n):\n",
    "    filter_list = []\n",
    "    for i in range(0, vector.shape[0]):\n",
    "    \n",
    "        # Here we'll call the function from the previous exercise, and extend the list we're creating\n",
    "        filtered = return_weights(vocab, original_vocab, vector, i, top_n)\n",
    "        filter_list.extend(filtered)\n",
    "    # Return the list in a set, so we don't get duplicate word indices\n",
    "    return set(filter_list)\n",
    "\n",
    "# Call the function to get the list of word indices\n",
    "filtered_words = words_to_filter(vocab, tfidf_vec.vocabulary_, text_tfidf, 3)\n",
    "\n",
    "# By converting filtered_words back to a list, we can use it to filter the columns in the text vector\n",
    "filtered_text = text_tfidf[:, list(filtered_words)]"
   ]
  },
  {
   "cell_type": "code",
   "execution_count": null,
   "metadata": {
    "ExecuteTime": {
     "end_time": "2019-03-08T05:29:55.054860Z",
     "start_time": "2019-03-08T05:29:55.038130Z"
    },
    "id": "32iSSaDf-xj5",
    "outputId": "8a733e9f-2590-43a3-8328-2b8c934bc5b4",
    "scrolled": true
   },
   "outputs": [
    {
     "name": "stdout",
     "output_type": "stream",
     "text": [
      "0.567741935483871\n"
     ]
    }
   ],
   "source": [
    "# Split the dataset according to the class distribution of category_desc, using the filtered_text vector\n",
    "train_X, test_X, train_y, test_y = train_test_split(filtered_text.toarray(), y, stratify=y)\n",
    "\n",
    "# Fit the model to the training data\n",
    "nb.fit(train_X, train_y)\n",
    "\n",
    "# Print out the model's accuracy\n",
    "print(nb.score(test_X, test_y))"
   ]
  },
  {
   "cell_type": "markdown",
   "metadata": {
    "id": "0eLgY6Lj-xj5"
   },
   "source": [
    "#### Dimensionality reduction\n",
    "* a less manual way of reducing the size of feature set\n",
    "* a form of unsupervised learning that transforms data in a way that shrinks number of features in your feature space.\n",
    "* This data transformation can be done in a linear or nonlinear fashion. (Combine/Decompose a feature space)\n",
    "* a feature extraction method\n",
    "* PCA(Principal Component Analysis) uses a linear transformation to project features into a space where they are completely uncorrelated.\n",
    "* While the feature space is reduced, the variance is captured in a meaningful way by combining features into components.\n",
    "    * PCA captures, in each component, as much of the variance in the dataset as possible.\n",
    "* a useful method when you have a large number of features and no strong candidates for elimiantion.\n",
    "\n",
    "##### PCA caveats\n",
    "* it can be very difficult to interpret PCA components beyond which components explain the most variance.\n",
    "* more of a black box method than other methods of dimensionality reduction\n",
    "* a good step to do at the end of preprocessing journey, because of the way the data gets transformed and reshaped."
   ]
  },
  {
   "cell_type": "code",
   "execution_count": null,
   "metadata": {
    "ExecuteTime": {
     "end_time": "2019-03-08T06:59:22.693168Z",
     "start_time": "2019-03-08T06:59:22.689323Z"
    },
    "id": "TFBnd2rD-xj5"
   },
   "outputs": [],
   "source": [
    "wine3 = wine[['Type', 'Alcohol', 'Malic acid', 'Ash', 'Alcalinity of ash',\n",
    "              'Magnesium', 'Total phenols', 'Flavanoids', 'Nonflavanoid phenols',\n",
    "              'Proanthocyanins', 'Color intensity', 'Hue',\n",
    "              'OD280/OD315 of diluted wines', 'Proline']]"
   ]
  },
  {
   "cell_type": "code",
   "execution_count": null,
   "metadata": {
    "ExecuteTime": {
     "end_time": "2019-03-08T07:00:50.387841Z",
     "start_time": "2019-03-08T07:00:50.262552Z"
    },
    "id": "_K8veBwj-xj5",
    "outputId": "36d9f3ad-36a8-4b80-e2b1-f2ae42d8b11f"
   },
   "outputs": [
    {
     "name": "stdout",
     "output_type": "stream",
     "text": [
      "[9.98091230e-01 1.73591562e-03 9.49589576e-05 5.02173562e-05\n",
      " 1.23636847e-05 8.46213034e-06 2.80681456e-06 1.52308053e-06\n",
      " 1.12783044e-06 7.21415811e-07 3.78060267e-07 2.12013755e-07\n",
      " 8.25392788e-08]\n"
     ]
    }
   ],
   "source": [
    "from sklearn.decomposition import PCA\n",
    "\n",
    "pca = PCA()\n",
    "wine_X = wine3.drop(\"Type\", axis=1)\n",
    "\n",
    "transformed_X = pca.fit_transform(wine_X)\n",
    "\n",
    "# Look at the percentage of variance explained by the different components\n",
    "print(pca.explained_variance_ratio_)"
   ]
  },
  {
   "cell_type": "code",
   "execution_count": null,
   "metadata": {
    "ExecuteTime": {
     "end_time": "2019-03-08T07:02:12.401051Z",
     "start_time": "2019-03-08T07:02:12.388055Z"
    },
    "id": "5zvR1Lcx-xj6",
    "outputId": "97897832-959c-4893-f6c9-4bb5ad09a3f7"
   },
   "outputs": [
    {
     "name": "stdout",
     "output_type": "stream",
     "text": [
      "0.6888888888888889\n"
     ]
    }
   ],
   "source": [
    "y = wine3['Type']\n",
    "\n",
    "X_wine_train, X_wine_test, y_wine_train, y_wine_test = train_test_split(transformed_X, y)\n",
    "\n",
    "knn.fit(X_wine_train, y_wine_train)\n",
    "\n",
    "print(knn.score(X_wine_test, y_wine_test))"
   ]
  },
  {
   "cell_type": "markdown",
   "metadata": {
    "id": "_EQTrVI6-xj6"
   },
   "source": [
    "## Case Study - UFOs sightings"
   ]
  },
  {
   "cell_type": "markdown",
   "metadata": {
    "id": "dgA2ZD-f-xj6"
   },
   "source": [
    "### Change dtypes and drop missing values"
   ]
  },
  {
   "cell_type": "code",
   "execution_count": null,
   "metadata": {
    "ExecuteTime": {
     "end_time": "2019-03-09T06:48:45.095844Z",
     "start_time": "2019-03-09T06:48:43.294737Z"
    },
    "id": "nj7r_owm-xj6",
    "outputId": "afc4e5a1-06a2-45f7-88d2-d7bf544f63bb"
   },
   "outputs": [
    {
     "name": "stdout",
     "output_type": "stream",
     "text": [
      "<class 'pandas.core.frame.DataFrame'>\n",
      "RangeIndex: 4935 entries, 0 to 4934\n",
      "Data columns (total 11 columns):\n",
      "date              4935 non-null object\n",
      "city              4926 non-null object\n",
      "state             4516 non-null object\n",
      "country           4255 non-null object\n",
      "type              4776 non-null object\n",
      "seconds           4935 non-null float64\n",
      "length_of_time    4792 non-null object\n",
      "desc              4932 non-null object\n",
      "recorded          4935 non-null object\n",
      "lat               4935 non-null object\n",
      "long              4935 non-null float64\n",
      "dtypes: float64(2), object(9)\n",
      "memory usage: 424.2+ KB\n"
     ]
    }
   ],
   "source": [
    "ufo = pd.read_csv('https://assets.datacamp.com/production/repositories/1816/datasets/a5ebfe5d2ed194f2668867603b563963af4769e9/ufo_sightings_large.csv')\n",
    "ufo.info()"
   ]
  },
  {
   "cell_type": "code",
   "execution_count": null,
   "metadata": {
    "ExecuteTime": {
     "end_time": "2019-03-09T06:48:45.527210Z",
     "start_time": "2019-03-09T06:48:45.522121Z"
    },
    "id": "XWulUZ-s-xj6",
    "outputId": "37f1f46f-955f-43a9-e372-83d828038074",
    "scrolled": true
   },
   "outputs": [
    {
     "data": {
      "text/plain": [
       "date               object\n",
       "city               object\n",
       "state              object\n",
       "country            object\n",
       "type               object\n",
       "seconds           float64\n",
       "length_of_time     object\n",
       "desc               object\n",
       "recorded           object\n",
       "lat                object\n",
       "long              float64\n",
       "dtype: object"
      ]
     },
     "execution_count": 250,
     "metadata": {
      "tags": []
     },
     "output_type": "execute_result"
    }
   ],
   "source": [
    "ufo.dtypes"
   ]
  },
  {
   "cell_type": "code",
   "execution_count": null,
   "metadata": {
    "ExecuteTime": {
     "end_time": "2019-03-09T06:48:46.355797Z",
     "start_time": "2019-03-09T06:48:45.939149Z"
    },
    "id": "9PhBXdgo-xj6",
    "outputId": "880be1fa-afc7-47fc-9034-fbd5bee2f600"
   },
   "outputs": [
    {
     "name": "stdout",
     "output_type": "stream",
     "text": [
      "datetime64[ns]\n"
     ]
    }
   ],
   "source": [
    "# Change the date column to type datetime\n",
    "ufo[\"date\"] = pd.to_datetime(ufo[\"date\"])\n",
    "\n",
    "# Check the column types\n",
    "print(ufo[\"date\"].dtypes)"
   ]
  },
  {
   "cell_type": "code",
   "execution_count": null,
   "metadata": {
    "ExecuteTime": {
     "end_time": "2019-03-09T06:48:46.716161Z",
     "start_time": "2019-03-09T06:48:46.710251Z"
    },
    "id": "Flw3g3iF-xj6",
    "outputId": "3fa12790-1213-46c2-88eb-c06bf9db0ef6"
   },
   "outputs": [
    {
     "data": {
      "text/plain": [
       "date                0\n",
       "city                9\n",
       "state             419\n",
       "country           680\n",
       "type              159\n",
       "seconds             0\n",
       "length_of_time    143\n",
       "desc                3\n",
       "recorded            0\n",
       "lat                 0\n",
       "long                0\n",
       "dtype: int64"
      ]
     },
     "execution_count": 252,
     "metadata": {
      "tags": []
     },
     "output_type": "execute_result"
    }
   ],
   "source": [
    "ufo.isna().sum()"
   ]
  },
  {
   "cell_type": "code",
   "execution_count": null,
   "metadata": {
    "ExecuteTime": {
     "end_time": "2019-03-09T06:48:47.096515Z",
     "start_time": "2019-03-09T06:48:47.091535Z"
    },
    "id": "3dObpfFH-xj7",
    "outputId": "9fd93b59-51f0-472a-c716-76ff2c5e3bfa"
   },
   "outputs": [
    {
     "name": "stdout",
     "output_type": "stream",
     "text": [
      "(4935, 11)\n",
      "(4283, 11)\n"
     ]
    }
   ],
   "source": [
    "# Keep only rows where length_of_time, state, and type are not null\n",
    "ufo_no_missing = ufo[ufo[\"length_of_time\"].notnull() & \n",
    "                     ufo[\"state\"].notnull() & \n",
    "                     ufo[\"type\"].notnull()]\n",
    "\n",
    "# Print out the shape of the new dataset\n",
    "print(ufo.shape)\n",
    "print(ufo_no_missing.shape)"
   ]
  },
  {
   "cell_type": "code",
   "execution_count": null,
   "metadata": {
    "ExecuteTime": {
     "end_time": "2019-03-09T06:48:47.463081Z",
     "start_time": "2019-03-09T06:48:47.450636Z"
    },
    "id": "bUp4Ktpc-xj7",
    "outputId": "f9f6fd31-84f2-4d32-fe24-f9d44f9242bb"
   },
   "outputs": [
    {
     "data": {
      "text/html": [
       "<div>\n",
       "<style scoped>\n",
       "    .dataframe tbody tr th:only-of-type {\n",
       "        vertical-align: middle;\n",
       "    }\n",
       "\n",
       "    .dataframe tbody tr th {\n",
       "        vertical-align: top;\n",
       "    }\n",
       "\n",
       "    .dataframe thead th {\n",
       "        text-align: right;\n",
       "    }\n",
       "</style>\n",
       "<table border=\"1\" class=\"dataframe\">\n",
       "  <thead>\n",
       "    <tr style=\"text-align: right;\">\n",
       "      <th></th>\n",
       "      <th>date</th>\n",
       "      <th>city</th>\n",
       "      <th>state</th>\n",
       "      <th>country</th>\n",
       "      <th>type</th>\n",
       "      <th>seconds</th>\n",
       "      <th>length_of_time</th>\n",
       "      <th>desc</th>\n",
       "      <th>recorded</th>\n",
       "      <th>lat</th>\n",
       "      <th>long</th>\n",
       "    </tr>\n",
       "  </thead>\n",
       "  <tbody>\n",
       "    <tr>\n",
       "      <th>0</th>\n",
       "      <td>2011-11-03 19:21:00</td>\n",
       "      <td>woodville</td>\n",
       "      <td>wi</td>\n",
       "      <td>us</td>\n",
       "      <td>unknown</td>\n",
       "      <td>1209600.0</td>\n",
       "      <td>2 weeks</td>\n",
       "      <td>Red blinking objects similar to airplanes or s...</td>\n",
       "      <td>12/12/2011</td>\n",
       "      <td>44.9530556</td>\n",
       "      <td>-92.291111</td>\n",
       "    </tr>\n",
       "    <tr>\n",
       "      <th>1</th>\n",
       "      <td>2004-10-03 19:05:00</td>\n",
       "      <td>cleveland</td>\n",
       "      <td>oh</td>\n",
       "      <td>us</td>\n",
       "      <td>circle</td>\n",
       "      <td>30.0</td>\n",
       "      <td>30sec.</td>\n",
       "      <td>Many fighter jets flying towards UFO</td>\n",
       "      <td>10/27/2004</td>\n",
       "      <td>41.4994444</td>\n",
       "      <td>-81.695556</td>\n",
       "    </tr>\n",
       "    <tr>\n",
       "      <th>3</th>\n",
       "      <td>2002-11-21 05:45:00</td>\n",
       "      <td>clemmons</td>\n",
       "      <td>nc</td>\n",
       "      <td>us</td>\n",
       "      <td>triangle</td>\n",
       "      <td>300.0</td>\n",
       "      <td>about 5 minutes</td>\n",
       "      <td>It was a large&amp;#44 triangular shaped flying ob...</td>\n",
       "      <td>12/23/2002</td>\n",
       "      <td>36.0213889</td>\n",
       "      <td>-80.382222</td>\n",
       "    </tr>\n",
       "    <tr>\n",
       "      <th>4</th>\n",
       "      <td>2010-08-19 12:55:00</td>\n",
       "      <td>calgary (canada)</td>\n",
       "      <td>ab</td>\n",
       "      <td>ca</td>\n",
       "      <td>oval</td>\n",
       "      <td>0.0</td>\n",
       "      <td>2</td>\n",
       "      <td>A white spinning disc in the shape of an oval.</td>\n",
       "      <td>8/24/2010</td>\n",
       "      <td>51.083333</td>\n",
       "      <td>-114.083333</td>\n",
       "    </tr>\n",
       "    <tr>\n",
       "      <th>5</th>\n",
       "      <td>2012-06-16 23:00:00</td>\n",
       "      <td>san diego</td>\n",
       "      <td>ca</td>\n",
       "      <td>us</td>\n",
       "      <td>light</td>\n",
       "      <td>600.0</td>\n",
       "      <td>10 minutes</td>\n",
       "      <td>Dancing lights that would fly around and then ...</td>\n",
       "      <td>7/4/2012</td>\n",
       "      <td>32.7152778</td>\n",
       "      <td>-117.156389</td>\n",
       "    </tr>\n",
       "    <tr>\n",
       "      <th>6</th>\n",
       "      <td>2009-07-12 21:30:00</td>\n",
       "      <td>duluth</td>\n",
       "      <td>mn</td>\n",
       "      <td>us</td>\n",
       "      <td>oval</td>\n",
       "      <td>600.0</td>\n",
       "      <td>total? maybe around 10 mi</td>\n",
       "      <td>A minor amber color trail&amp;#44 (from where we w...</td>\n",
       "      <td>3/13/2012</td>\n",
       "      <td>46.7833333</td>\n",
       "      <td>-92.106389</td>\n",
       "    </tr>\n",
       "    <tr>\n",
       "      <th>7</th>\n",
       "      <td>2008-10-20 18:30:00</td>\n",
       "      <td>fairfield</td>\n",
       "      <td>tx</td>\n",
       "      <td>us</td>\n",
       "      <td>other</td>\n",
       "      <td>0.0</td>\n",
       "      <td>several sightings from 10</td>\n",
       "      <td>Multiple sightings in Central Texas (Freestone...</td>\n",
       "      <td>1/10/2009</td>\n",
       "      <td>31.7244444</td>\n",
       "      <td>-96.165000</td>\n",
       "    </tr>\n",
       "    <tr>\n",
       "      <th>8</th>\n",
       "      <td>2013-06-09 00:00:00</td>\n",
       "      <td>oakville (canada)</td>\n",
       "      <td>on</td>\n",
       "      <td>ca</td>\n",
       "      <td>light</td>\n",
       "      <td>120.0</td>\n",
       "      <td>2 minutes</td>\n",
       "      <td>Brilliant orange light or chinese lantern at o...</td>\n",
       "      <td>7/3/2013</td>\n",
       "      <td>43.433333</td>\n",
       "      <td>-79.666667</td>\n",
       "    </tr>\n",
       "    <tr>\n",
       "      <th>9</th>\n",
       "      <td>2013-04-26 23:27:00</td>\n",
       "      <td>lacey</td>\n",
       "      <td>wa</td>\n",
       "      <td>us</td>\n",
       "      <td>light</td>\n",
       "      <td>120.0</td>\n",
       "      <td>2 minutes</td>\n",
       "      <td>Bright red light moving north to north west fr...</td>\n",
       "      <td>5/15/2013</td>\n",
       "      <td>47.0344444</td>\n",
       "      <td>-122.821944</td>\n",
       "    </tr>\n",
       "    <tr>\n",
       "      <th>10</th>\n",
       "      <td>2013-09-13 20:30:00</td>\n",
       "      <td>ben avon</td>\n",
       "      <td>pa</td>\n",
       "      <td>us</td>\n",
       "      <td>sphere</td>\n",
       "      <td>300.0</td>\n",
       "      <td>5 minutes</td>\n",
       "      <td>North-east moving south-west. First 7 or so li...</td>\n",
       "      <td>9/30/2013</td>\n",
       "      <td>40.5080556</td>\n",
       "      <td>-80.083333</td>\n",
       "    </tr>\n",
       "  </tbody>\n",
       "</table>\n",
       "</div>"
      ],
      "text/plain": [
       "                  date               city state country      type    seconds  \\\n",
       "0  2011-11-03 19:21:00          woodville    wi      us   unknown  1209600.0   \n",
       "1  2004-10-03 19:05:00          cleveland    oh      us    circle       30.0   \n",
       "3  2002-11-21 05:45:00           clemmons    nc      us  triangle      300.0   \n",
       "4  2010-08-19 12:55:00   calgary (canada)    ab      ca      oval        0.0   \n",
       "5  2012-06-16 23:00:00          san diego    ca      us     light      600.0   \n",
       "6  2009-07-12 21:30:00             duluth    mn      us      oval      600.0   \n",
       "7  2008-10-20 18:30:00          fairfield    tx      us     other        0.0   \n",
       "8  2013-06-09 00:00:00  oakville (canada)    on      ca     light      120.0   \n",
       "9  2013-04-26 23:27:00              lacey    wa      us     light      120.0   \n",
       "10 2013-09-13 20:30:00           ben avon    pa      us    sphere      300.0   \n",
       "\n",
       "               length_of_time  \\\n",
       "0                     2 weeks   \n",
       "1                      30sec.   \n",
       "3             about 5 minutes   \n",
       "4                           2   \n",
       "5                  10 minutes   \n",
       "6   total? maybe around 10 mi   \n",
       "7   several sightings from 10   \n",
       "8                   2 minutes   \n",
       "9                   2 minutes   \n",
       "10                  5 minutes   \n",
       "\n",
       "                                                 desc    recorded         lat  \\\n",
       "0   Red blinking objects similar to airplanes or s...  12/12/2011  44.9530556   \n",
       "1                Many fighter jets flying towards UFO  10/27/2004  41.4994444   \n",
       "3   It was a large&#44 triangular shaped flying ob...  12/23/2002  36.0213889   \n",
       "4      A white spinning disc in the shape of an oval.   8/24/2010   51.083333   \n",
       "5   Dancing lights that would fly around and then ...    7/4/2012  32.7152778   \n",
       "6   A minor amber color trail&#44 (from where we w...   3/13/2012  46.7833333   \n",
       "7   Multiple sightings in Central Texas (Freestone...   1/10/2009  31.7244444   \n",
       "8   Brilliant orange light or chinese lantern at o...    7/3/2013   43.433333   \n",
       "9   Bright red light moving north to north west fr...   5/15/2013  47.0344444   \n",
       "10  North-east moving south-west. First 7 or so li...   9/30/2013  40.5080556   \n",
       "\n",
       "          long  \n",
       "0   -92.291111  \n",
       "1   -81.695556  \n",
       "3   -80.382222  \n",
       "4  -114.083333  \n",
       "5  -117.156389  \n",
       "6   -92.106389  \n",
       "7   -96.165000  \n",
       "8   -79.666667  \n",
       "9  -122.821944  \n",
       "10  -80.083333  "
      ]
     },
     "execution_count": 254,
     "metadata": {
      "tags": []
     },
     "output_type": "execute_result"
    }
   ],
   "source": [
    "ufo_no_missing.head(10)"
   ]
  },
  {
   "cell_type": "markdown",
   "metadata": {
    "id": "l9k6PJsv-xj7"
   },
   "source": [
    "### Categorical variables and standardization"
   ]
  },
  {
   "cell_type": "code",
   "execution_count": null,
   "metadata": {
    "ExecuteTime": {
     "end_time": "2019-03-09T07:16:23.034501Z",
     "start_time": "2019-03-09T07:16:22.973842Z"
    },
    "id": "XCkmniU0-xj7",
    "outputId": "6824a710-e4f2-42b6-cc4a-c93ad4b99fee",
    "scrolled": true
   },
   "outputs": [
    {
     "name": "stderr",
     "output_type": "stream",
     "text": [
      "/Users/jaeeon/anaconda3/lib/python3.6/site-packages/ipykernel_launcher.py:10: SettingWithCopyWarning: \n",
      "A value is trying to be set on a copy of a slice from a DataFrame.\n",
      "Try using .loc[row_indexer,col_indexer] = value instead\n",
      "\n",
      "See the caveats in the documentation: http://pandas.pydata.org/pandas-docs/stable/indexing.html#indexing-view-versus-copy\n",
      "  # Remove the CWD from sys.path while we load stuff.\n"
     ]
    },
    {
     "data": {
      "text/html": [
       "<div>\n",
       "<style scoped>\n",
       "    .dataframe tbody tr th:only-of-type {\n",
       "        vertical-align: middle;\n",
       "    }\n",
       "\n",
       "    .dataframe tbody tr th {\n",
       "        vertical-align: top;\n",
       "    }\n",
       "\n",
       "    .dataframe thead th {\n",
       "        text-align: right;\n",
       "    }\n",
       "</style>\n",
       "<table border=\"1\" class=\"dataframe\">\n",
       "  <thead>\n",
       "    <tr style=\"text-align: right;\">\n",
       "      <th></th>\n",
       "      <th>date</th>\n",
       "      <th>city</th>\n",
       "      <th>state</th>\n",
       "      <th>country</th>\n",
       "      <th>type</th>\n",
       "      <th>seconds</th>\n",
       "      <th>length_of_time</th>\n",
       "      <th>desc</th>\n",
       "      <th>recorded</th>\n",
       "      <th>lat</th>\n",
       "      <th>long</th>\n",
       "      <th>time_minutes</th>\n",
       "    </tr>\n",
       "  </thead>\n",
       "  <tbody>\n",
       "    <tr>\n",
       "      <th>0</th>\n",
       "      <td>2011-11-03 19:21:00</td>\n",
       "      <td>woodville</td>\n",
       "      <td>wi</td>\n",
       "      <td>us</td>\n",
       "      <td>unknown</td>\n",
       "      <td>1209600.0</td>\n",
       "      <td>2 weeks</td>\n",
       "      <td>Red blinking objects similar to airplanes or s...</td>\n",
       "      <td>12/12/2011</td>\n",
       "      <td>44.9530556</td>\n",
       "      <td>-92.291111</td>\n",
       "      <td>None</td>\n",
       "    </tr>\n",
       "    <tr>\n",
       "      <th>1</th>\n",
       "      <td>2004-10-03 19:05:00</td>\n",
       "      <td>cleveland</td>\n",
       "      <td>oh</td>\n",
       "      <td>us</td>\n",
       "      <td>circle</td>\n",
       "      <td>30.0</td>\n",
       "      <td>30sec.</td>\n",
       "      <td>Many fighter jets flying towards UFO</td>\n",
       "      <td>10/27/2004</td>\n",
       "      <td>41.4994444</td>\n",
       "      <td>-81.695556</td>\n",
       "      <td>None</td>\n",
       "    </tr>\n",
       "    <tr>\n",
       "      <th>3</th>\n",
       "      <td>2002-11-21 05:45:00</td>\n",
       "      <td>clemmons</td>\n",
       "      <td>nc</td>\n",
       "      <td>us</td>\n",
       "      <td>triangle</td>\n",
       "      <td>300.0</td>\n",
       "      <td>about 5 minutes</td>\n",
       "      <td>It was a large&amp;#44 triangular shaped flying ob...</td>\n",
       "      <td>12/23/2002</td>\n",
       "      <td>36.0213889</td>\n",
       "      <td>-80.382222</td>\n",
       "      <td>5 min</td>\n",
       "    </tr>\n",
       "    <tr>\n",
       "      <th>4</th>\n",
       "      <td>2010-08-19 12:55:00</td>\n",
       "      <td>calgary (canada)</td>\n",
       "      <td>ab</td>\n",
       "      <td>ca</td>\n",
       "      <td>oval</td>\n",
       "      <td>0.0</td>\n",
       "      <td>2</td>\n",
       "      <td>A white spinning disc in the shape of an oval.</td>\n",
       "      <td>8/24/2010</td>\n",
       "      <td>51.083333</td>\n",
       "      <td>-114.083333</td>\n",
       "      <td>None</td>\n",
       "    </tr>\n",
       "    <tr>\n",
       "      <th>5</th>\n",
       "      <td>2012-06-16 23:00:00</td>\n",
       "      <td>san diego</td>\n",
       "      <td>ca</td>\n",
       "      <td>us</td>\n",
       "      <td>light</td>\n",
       "      <td>600.0</td>\n",
       "      <td>10 minutes</td>\n",
       "      <td>Dancing lights that would fly around and then ...</td>\n",
       "      <td>7/4/2012</td>\n",
       "      <td>32.7152778</td>\n",
       "      <td>-117.156389</td>\n",
       "      <td>10 min</td>\n",
       "    </tr>\n",
       "  </tbody>\n",
       "</table>\n",
       "</div>"
      ],
      "text/plain": [
       "                 date              city state country      type    seconds  \\\n",
       "0 2011-11-03 19:21:00         woodville    wi      us   unknown  1209600.0   \n",
       "1 2004-10-03 19:05:00         cleveland    oh      us    circle       30.0   \n",
       "3 2002-11-21 05:45:00          clemmons    nc      us  triangle      300.0   \n",
       "4 2010-08-19 12:55:00  calgary (canada)    ab      ca      oval        0.0   \n",
       "5 2012-06-16 23:00:00         san diego    ca      us     light      600.0   \n",
       "\n",
       "    length_of_time                                               desc  \\\n",
       "0          2 weeks  Red blinking objects similar to airplanes or s...   \n",
       "1           30sec.               Many fighter jets flying towards UFO   \n",
       "3  about 5 minutes  It was a large&#44 triangular shaped flying ob...   \n",
       "4                2     A white spinning disc in the shape of an oval.   \n",
       "5       10 minutes  Dancing lights that would fly around and then ...   \n",
       "\n",
       "     recorded         lat        long time_minutes  \n",
       "0  12/12/2011  44.9530556  -92.291111         None  \n",
       "1  10/27/2004  41.4994444  -81.695556         None  \n",
       "3  12/23/2002  36.0213889  -80.382222        5 min  \n",
       "4   8/24/2010   51.083333 -114.083333         None  \n",
       "5    7/4/2012  32.7152778 -117.156389       10 min  "
      ]
     },
     "execution_count": 295,
     "metadata": {
      "tags": []
     },
     "output_type": "execute_result"
    }
   ],
   "source": [
    "def search_minutes(time):\n",
    "    \n",
    "    pattern = re.compile(r\"\\d+ [min]+\")\n",
    "\n",
    "    m = re.search(pattern, time)\n",
    "    \n",
    "    if m is not None:\n",
    "        return m.group()\n",
    "\n",
    "ufo_no_missing['time_minutes'] = ufo_no_missing['length_of_time'].map(lambda x: search_minutes(str(x)))\n",
    "ufo_no_missing.head()"
   ]
  },
  {
   "cell_type": "code",
   "execution_count": null,
   "metadata": {
    "ExecuteTime": {
     "end_time": "2019-03-09T07:16:25.983446Z",
     "start_time": "2019-03-09T07:16:25.963380Z"
    },
    "id": "H1BJ_Z7p-xj7",
    "outputId": "fcef103d-38ba-40ca-e979-b7a3c4ec8eee"
   },
   "outputs": [
    {
     "data": {
      "text/html": [
       "<div>\n",
       "<style scoped>\n",
       "    .dataframe tbody tr th:only-of-type {\n",
       "        vertical-align: middle;\n",
       "    }\n",
       "\n",
       "    .dataframe tbody tr th {\n",
       "        vertical-align: top;\n",
       "    }\n",
       "\n",
       "    .dataframe thead th {\n",
       "        text-align: right;\n",
       "    }\n",
       "</style>\n",
       "<table border=\"1\" class=\"dataframe\">\n",
       "  <thead>\n",
       "    <tr style=\"text-align: right;\">\n",
       "      <th></th>\n",
       "      <th>date</th>\n",
       "      <th>city</th>\n",
       "      <th>state</th>\n",
       "      <th>country</th>\n",
       "      <th>type</th>\n",
       "      <th>seconds</th>\n",
       "      <th>length_of_time</th>\n",
       "      <th>desc</th>\n",
       "      <th>recorded</th>\n",
       "      <th>lat</th>\n",
       "      <th>long</th>\n",
       "      <th>time_minutes</th>\n",
       "    </tr>\n",
       "  </thead>\n",
       "  <tbody>\n",
       "    <tr>\n",
       "      <th>3</th>\n",
       "      <td>2002-11-21 05:45:00</td>\n",
       "      <td>clemmons</td>\n",
       "      <td>nc</td>\n",
       "      <td>us</td>\n",
       "      <td>triangle</td>\n",
       "      <td>300.0</td>\n",
       "      <td>about 5 minutes</td>\n",
       "      <td>It was a large&amp;#44 triangular shaped flying ob...</td>\n",
       "      <td>12/23/2002</td>\n",
       "      <td>36.0213889</td>\n",
       "      <td>-80.382222</td>\n",
       "      <td>5 min</td>\n",
       "    </tr>\n",
       "    <tr>\n",
       "      <th>5</th>\n",
       "      <td>2012-06-16 23:00:00</td>\n",
       "      <td>san diego</td>\n",
       "      <td>ca</td>\n",
       "      <td>us</td>\n",
       "      <td>light</td>\n",
       "      <td>600.0</td>\n",
       "      <td>10 minutes</td>\n",
       "      <td>Dancing lights that would fly around and then ...</td>\n",
       "      <td>7/4/2012</td>\n",
       "      <td>32.7152778</td>\n",
       "      <td>-117.156389</td>\n",
       "      <td>10 min</td>\n",
       "    </tr>\n",
       "    <tr>\n",
       "      <th>6</th>\n",
       "      <td>2009-07-12 21:30:00</td>\n",
       "      <td>duluth</td>\n",
       "      <td>mn</td>\n",
       "      <td>us</td>\n",
       "      <td>oval</td>\n",
       "      <td>600.0</td>\n",
       "      <td>total? maybe around 10 mi</td>\n",
       "      <td>A minor amber color trail&amp;#44 (from where we w...</td>\n",
       "      <td>3/13/2012</td>\n",
       "      <td>46.7833333</td>\n",
       "      <td>-92.106389</td>\n",
       "      <td>10 mi</td>\n",
       "    </tr>\n",
       "    <tr>\n",
       "      <th>8</th>\n",
       "      <td>2013-06-09 00:00:00</td>\n",
       "      <td>oakville (canada)</td>\n",
       "      <td>on</td>\n",
       "      <td>ca</td>\n",
       "      <td>light</td>\n",
       "      <td>120.0</td>\n",
       "      <td>2 minutes</td>\n",
       "      <td>Brilliant orange light or chinese lantern at o...</td>\n",
       "      <td>7/3/2013</td>\n",
       "      <td>43.433333</td>\n",
       "      <td>-79.666667</td>\n",
       "      <td>2 min</td>\n",
       "    </tr>\n",
       "    <tr>\n",
       "      <th>9</th>\n",
       "      <td>2013-04-26 23:27:00</td>\n",
       "      <td>lacey</td>\n",
       "      <td>wa</td>\n",
       "      <td>us</td>\n",
       "      <td>light</td>\n",
       "      <td>120.0</td>\n",
       "      <td>2 minutes</td>\n",
       "      <td>Bright red light moving north to north west fr...</td>\n",
       "      <td>5/15/2013</td>\n",
       "      <td>47.0344444</td>\n",
       "      <td>-122.821944</td>\n",
       "      <td>2 min</td>\n",
       "    </tr>\n",
       "  </tbody>\n",
       "</table>\n",
       "</div>"
      ],
      "text/plain": [
       "                 date               city state country      type  seconds  \\\n",
       "3 2002-11-21 05:45:00           clemmons    nc      us  triangle    300.0   \n",
       "5 2012-06-16 23:00:00          san diego    ca      us     light    600.0   \n",
       "6 2009-07-12 21:30:00             duluth    mn      us      oval    600.0   \n",
       "8 2013-06-09 00:00:00  oakville (canada)    on      ca     light    120.0   \n",
       "9 2013-04-26 23:27:00              lacey    wa      us     light    120.0   \n",
       "\n",
       "              length_of_time  \\\n",
       "3            about 5 minutes   \n",
       "5                 10 minutes   \n",
       "6  total? maybe around 10 mi   \n",
       "8                  2 minutes   \n",
       "9                  2 minutes   \n",
       "\n",
       "                                                desc    recorded         lat  \\\n",
       "3  It was a large&#44 triangular shaped flying ob...  12/23/2002  36.0213889   \n",
       "5  Dancing lights that would fly around and then ...    7/4/2012  32.7152778   \n",
       "6  A minor amber color trail&#44 (from where we w...   3/13/2012  46.7833333   \n",
       "8  Brilliant orange light or chinese lantern at o...    7/3/2013   43.433333   \n",
       "9  Bright red light moving north to north west fr...   5/15/2013  47.0344444   \n",
       "\n",
       "         long time_minutes  \n",
       "3  -80.382222        5 min  \n",
       "5 -117.156389       10 min  \n",
       "6  -92.106389        10 mi  \n",
       "8  -79.666667        2 min  \n",
       "9 -122.821944        2 min  "
      ]
     },
     "execution_count": 296,
     "metadata": {
      "tags": []
     },
     "output_type": "execute_result"
    }
   ],
   "source": [
    "ufo_df = ufo_no_missing.dropna(axis=0)\n",
    "ufo_df.head()"
   ]
  },
  {
   "cell_type": "code",
   "execution_count": null,
   "metadata": {
    "ExecuteTime": {
     "end_time": "2019-03-09T07:16:27.998372Z",
     "start_time": "2019-03-09T07:16:27.950552Z"
    },
    "id": "ZeMqDqh1-xj7",
    "outputId": "25615610-4686-49d0-b699-4387b0d078a8",
    "scrolled": true
   },
   "outputs": [
    {
     "name": "stdout",
     "output_type": "stream",
     "text": [
      "  time_minutes  minutes\n",
      "3        5 min      5.0\n",
      "5       10 min     10.0\n",
      "6        10 mi     10.0\n",
      "8        2 min      2.0\n",
      "9        2 min      2.0\n"
     ]
    },
    {
     "name": "stderr",
     "output_type": "stream",
     "text": [
      "/Users/jaeeon/anaconda3/lib/python3.6/site-packages/ipykernel_launcher.py:11: SettingWithCopyWarning: \n",
      "A value is trying to be set on a copy of a slice from a DataFrame.\n",
      "Try using .loc[row_indexer,col_indexer] = value instead\n",
      "\n",
      "See the caveats in the documentation: http://pandas.pydata.org/pandas-docs/stable/indexing.html#indexing-view-versus-copy\n",
      "  # This is added back by InteractiveShellApp.init_path()\n"
     ]
    }
   ],
   "source": [
    "def return_minutes(time_string):\n",
    "    \n",
    "    pattern = re.compile(r\"\\d+\")\n",
    "    \n",
    "    num = re.match(pattern, time_string)\n",
    "    \n",
    "    if num is not None:\n",
    "        return int(num.group())\n",
    "        \n",
    "# Apply the extraction to the length_of_time column\n",
    "ufo_df[\"minutes\"] = ufo_df[\"time_minutes\"].map(lambda x: return_minutes(str(x))).astype('float')\n",
    "\n",
    "# Take a look at the head of both of the columns\n",
    "print(ufo_df[['time_minutes', 'minutes']].head())"
   ]
  },
  {
   "cell_type": "code",
   "execution_count": null,
   "metadata": {
    "ExecuteTime": {
     "end_time": "2019-03-09T07:25:13.604407Z",
     "start_time": "2019-03-09T07:25:13.565942Z"
    },
    "id": "BWC-6dVD-xj7",
    "outputId": "d479c2a1-d4f7-40a6-a6cf-b6cfb4b2dc80"
   },
   "outputs": [
    {
     "name": "stdout",
     "output_type": "stream",
     "text": [
      "seconds    3.224621e+09\n",
      "minutes    1.196762e+02\n",
      "dtype: float64\n",
      "1.1325251102467289\n"
     ]
    },
    {
     "name": "stderr",
     "output_type": "stream",
     "text": [
      "/Users/jaeeon/anaconda3/lib/python3.6/site-packages/ipykernel_launcher.py:5: SettingWithCopyWarning: \n",
      "A value is trying to be set on a copy of a slice from a DataFrame.\n",
      "Try using .loc[row_indexer,col_indexer] = value instead\n",
      "\n",
      "See the caveats in the documentation: http://pandas.pydata.org/pandas-docs/stable/indexing.html#indexing-view-versus-copy\n",
      "  \"\"\"\n"
     ]
    }
   ],
   "source": [
    "import numpy as np\n",
    "\n",
    "print(ufo_df[['seconds', 'minutes']].var())\n",
    "\n",
    "ufo_df['seconds_log'] = np.log1p(ufo_df['seconds'])\n",
    "\n",
    "print(ufo_df['seconds_log'].var())"
   ]
  },
  {
   "cell_type": "markdown",
   "metadata": {
    "id": "LDqlvLjp-xj8"
   },
   "source": [
    "### Engineering new featuers"
   ]
  },
  {
   "cell_type": "code",
   "execution_count": null,
   "metadata": {
    "ExecuteTime": {
     "end_time": "2019-03-09T07:25:14.252125Z",
     "start_time": "2019-03-09T07:25:14.193091Z"
    },
    "id": "xl5tzz8_-xj8",
    "outputId": "0f9ead28-1eb7-4c6a-d571-2c7047c39256"
   },
   "outputs": [
    {
     "name": "stdout",
     "output_type": "stream",
     "text": [
      "21\n"
     ]
    },
    {
     "name": "stderr",
     "output_type": "stream",
     "text": [
      "/Users/jaeeon/anaconda3/lib/python3.6/site-packages/ipykernel_launcher.py:1: SettingWithCopyWarning: \n",
      "A value is trying to be set on a copy of a slice from a DataFrame.\n",
      "Try using .loc[row_indexer,col_indexer] = value instead\n",
      "\n",
      "See the caveats in the documentation: http://pandas.pydata.org/pandas-docs/stable/indexing.html#indexing-view-versus-copy\n",
      "  \"\"\"Entry point for launching an IPython kernel.\n"
     ]
    },
    {
     "data": {
      "text/html": [
       "<div>\n",
       "<style scoped>\n",
       "    .dataframe tbody tr th:only-of-type {\n",
       "        vertical-align: middle;\n",
       "    }\n",
       "\n",
       "    .dataframe tbody tr th {\n",
       "        vertical-align: top;\n",
       "    }\n",
       "\n",
       "    .dataframe thead th {\n",
       "        text-align: right;\n",
       "    }\n",
       "</style>\n",
       "<table border=\"1\" class=\"dataframe\">\n",
       "  <thead>\n",
       "    <tr style=\"text-align: right;\">\n",
       "      <th></th>\n",
       "      <th>date</th>\n",
       "      <th>city</th>\n",
       "      <th>state</th>\n",
       "      <th>country</th>\n",
       "      <th>type</th>\n",
       "      <th>seconds</th>\n",
       "      <th>length_of_time</th>\n",
       "      <th>desc</th>\n",
       "      <th>recorded</th>\n",
       "      <th>lat</th>\n",
       "      <th>...</th>\n",
       "      <th>flash</th>\n",
       "      <th>formation</th>\n",
       "      <th>light</th>\n",
       "      <th>other</th>\n",
       "      <th>oval</th>\n",
       "      <th>rectangle</th>\n",
       "      <th>sphere</th>\n",
       "      <th>teardrop</th>\n",
       "      <th>triangle</th>\n",
       "      <th>unknown</th>\n",
       "    </tr>\n",
       "  </thead>\n",
       "  <tbody>\n",
       "    <tr>\n",
       "      <th>3</th>\n",
       "      <td>2002-11-21 05:45:00</td>\n",
       "      <td>clemmons</td>\n",
       "      <td>nc</td>\n",
       "      <td>us</td>\n",
       "      <td>triangle</td>\n",
       "      <td>300.0</td>\n",
       "      <td>about 5 minutes</td>\n",
       "      <td>It was a large&amp;#44 triangular shaped flying ob...</td>\n",
       "      <td>12/23/2002</td>\n",
       "      <td>36.0213889</td>\n",
       "      <td>...</td>\n",
       "      <td>0</td>\n",
       "      <td>0</td>\n",
       "      <td>0</td>\n",
       "      <td>0</td>\n",
       "      <td>0</td>\n",
       "      <td>0</td>\n",
       "      <td>0</td>\n",
       "      <td>0</td>\n",
       "      <td>1</td>\n",
       "      <td>0</td>\n",
       "    </tr>\n",
       "    <tr>\n",
       "      <th>5</th>\n",
       "      <td>2012-06-16 23:00:00</td>\n",
       "      <td>san diego</td>\n",
       "      <td>ca</td>\n",
       "      <td>us</td>\n",
       "      <td>light</td>\n",
       "      <td>600.0</td>\n",
       "      <td>10 minutes</td>\n",
       "      <td>Dancing lights that would fly around and then ...</td>\n",
       "      <td>7/4/2012</td>\n",
       "      <td>32.7152778</td>\n",
       "      <td>...</td>\n",
       "      <td>0</td>\n",
       "      <td>0</td>\n",
       "      <td>1</td>\n",
       "      <td>0</td>\n",
       "      <td>0</td>\n",
       "      <td>0</td>\n",
       "      <td>0</td>\n",
       "      <td>0</td>\n",
       "      <td>0</td>\n",
       "      <td>0</td>\n",
       "    </tr>\n",
       "    <tr>\n",
       "      <th>6</th>\n",
       "      <td>2009-07-12 21:30:00</td>\n",
       "      <td>duluth</td>\n",
       "      <td>mn</td>\n",
       "      <td>us</td>\n",
       "      <td>oval</td>\n",
       "      <td>600.0</td>\n",
       "      <td>total? maybe around 10 mi</td>\n",
       "      <td>A minor amber color trail&amp;#44 (from where we w...</td>\n",
       "      <td>3/13/2012</td>\n",
       "      <td>46.7833333</td>\n",
       "      <td>...</td>\n",
       "      <td>0</td>\n",
       "      <td>0</td>\n",
       "      <td>0</td>\n",
       "      <td>0</td>\n",
       "      <td>1</td>\n",
       "      <td>0</td>\n",
       "      <td>0</td>\n",
       "      <td>0</td>\n",
       "      <td>0</td>\n",
       "      <td>0</td>\n",
       "    </tr>\n",
       "    <tr>\n",
       "      <th>8</th>\n",
       "      <td>2013-06-09 00:00:00</td>\n",
       "      <td>oakville (canada)</td>\n",
       "      <td>on</td>\n",
       "      <td>ca</td>\n",
       "      <td>light</td>\n",
       "      <td>120.0</td>\n",
       "      <td>2 minutes</td>\n",
       "      <td>Brilliant orange light or chinese lantern at o...</td>\n",
       "      <td>7/3/2013</td>\n",
       "      <td>43.433333</td>\n",
       "      <td>...</td>\n",
       "      <td>0</td>\n",
       "      <td>0</td>\n",
       "      <td>1</td>\n",
       "      <td>0</td>\n",
       "      <td>0</td>\n",
       "      <td>0</td>\n",
       "      <td>0</td>\n",
       "      <td>0</td>\n",
       "      <td>0</td>\n",
       "      <td>0</td>\n",
       "    </tr>\n",
       "    <tr>\n",
       "      <th>9</th>\n",
       "      <td>2013-04-26 23:27:00</td>\n",
       "      <td>lacey</td>\n",
       "      <td>wa</td>\n",
       "      <td>us</td>\n",
       "      <td>light</td>\n",
       "      <td>120.0</td>\n",
       "      <td>2 minutes</td>\n",
       "      <td>Bright red light moving north to north west fr...</td>\n",
       "      <td>5/15/2013</td>\n",
       "      <td>47.0344444</td>\n",
       "      <td>...</td>\n",
       "      <td>0</td>\n",
       "      <td>0</td>\n",
       "      <td>1</td>\n",
       "      <td>0</td>\n",
       "      <td>0</td>\n",
       "      <td>0</td>\n",
       "      <td>0</td>\n",
       "      <td>0</td>\n",
       "      <td>0</td>\n",
       "      <td>0</td>\n",
       "    </tr>\n",
       "  </tbody>\n",
       "</table>\n",
       "<p>5 rows × 36 columns</p>\n",
       "</div>"
      ],
      "text/plain": [
       "                 date               city state country      type  seconds  \\\n",
       "3 2002-11-21 05:45:00           clemmons    nc      us  triangle    300.0   \n",
       "5 2012-06-16 23:00:00          san diego    ca      us     light    600.0   \n",
       "6 2009-07-12 21:30:00             duluth    mn      us      oval    600.0   \n",
       "8 2013-06-09 00:00:00  oakville (canada)    on      ca     light    120.0   \n",
       "9 2013-04-26 23:27:00              lacey    wa      us     light    120.0   \n",
       "\n",
       "              length_of_time  \\\n",
       "3            about 5 minutes   \n",
       "5                 10 minutes   \n",
       "6  total? maybe around 10 mi   \n",
       "8                  2 minutes   \n",
       "9                  2 minutes   \n",
       "\n",
       "                                                desc    recorded         lat  \\\n",
       "3  It was a large&#44 triangular shaped flying ob...  12/23/2002  36.0213889   \n",
       "5  Dancing lights that would fly around and then ...    7/4/2012  32.7152778   \n",
       "6  A minor amber color trail&#44 (from where we w...   3/13/2012  46.7833333   \n",
       "8  Brilliant orange light or chinese lantern at o...    7/3/2013   43.433333   \n",
       "9  Bright red light moving north to north west fr...   5/15/2013  47.0344444   \n",
       "\n",
       "    ...     flash formation  light  other  oval  rectangle  sphere  teardrop  \\\n",
       "3   ...         0         0      0      0     0          0       0         0   \n",
       "5   ...         0         0      1      0     0          0       0         0   \n",
       "6   ...         0         0      0      0     1          0       0         0   \n",
       "8   ...         0         0      1      0     0          0       0         0   \n",
       "9   ...         0         0      1      0     0          0       0         0   \n",
       "\n",
       "   triangle  unknown  \n",
       "3         1        0  \n",
       "5         0        0  \n",
       "6         0        0  \n",
       "8         0        0  \n",
       "9         0        0  \n",
       "\n",
       "[5 rows x 36 columns]"
      ]
     },
     "execution_count": 303,
     "metadata": {
      "tags": []
     },
     "output_type": "execute_result"
    }
   ],
   "source": [
    "ufo_df[\"country_enc\"] = ufo_df[\"country\"].apply(lambda val: 1 if val == \"us\" else 0)\n",
    "\n",
    "print(len(ufo_df[\"type\"].unique()))\n",
    "\n",
    "type_set = pd.get_dummies(ufo_df[\"type\"])\n",
    "\n",
    "ufo_df = pd.concat([ufo_df, type_set], axis=1)\n",
    "\n",
    "ufo_df.head()"
   ]
  },
  {
   "cell_type": "code",
   "execution_count": null,
   "metadata": {
    "ExecuteTime": {
     "end_time": "2019-03-09T07:25:14.851199Z",
     "start_time": "2019-03-09T07:25:14.847714Z"
    },
    "id": "GEVEDi5c-xj8",
    "outputId": "d5c45d3e-d600-40a6-ea4e-c7b5e26d4863"
   },
   "outputs": [
    {
     "data": {
      "text/plain": [
       "(2147, 36)"
      ]
     },
     "execution_count": 304,
     "metadata": {
      "tags": []
     },
     "output_type": "execute_result"
    }
   ],
   "source": [
    "ufo_df.shape"
   ]
  },
  {
   "cell_type": "code",
   "execution_count": null,
   "metadata": {
    "ExecuteTime": {
     "end_time": "2019-03-09T07:25:15.422962Z",
     "start_time": "2019-03-09T07:25:15.406045Z"
    },
    "id": "78wiUTw9-xj8",
    "outputId": "af422c19-5cee-435b-8992-7862c6350790"
   },
   "outputs": [
    {
     "name": "stdout",
     "output_type": "stream",
     "text": [
      "                 date  month  year\n",
      "3 2002-11-21 05:45:00     11  2002\n",
      "5 2012-06-16 23:00:00      6  2012\n",
      "6 2009-07-12 21:30:00      7  2009\n",
      "8 2013-06-09 00:00:00      6  2013\n",
      "9 2013-04-26 23:27:00      4  2013\n"
     ]
    }
   ],
   "source": [
    "ufo_df[\"month\"] = ufo_df[\"date\"].apply(lambda x: x.month)\n",
    "\n",
    "ufo_df[\"year\"] = ufo_df[\"date\"].apply(lambda x: x.year)\n",
    "\n",
    "print(ufo_df[['date', 'month', 'year']].head())"
   ]
  },
  {
   "cell_type": "code",
   "execution_count": null,
   "metadata": {
    "ExecuteTime": {
     "end_time": "2019-03-09T07:25:15.933618Z",
     "start_time": "2019-03-09T07:25:15.896476Z"
    },
    "id": "OdmrUgRW-xj8",
    "outputId": "45a3ee8f-140e-4ce3-b6a8-587b44389f51"
   },
   "outputs": [
    {
     "name": "stdout",
     "output_type": "stream",
     "text": [
      "3    It was a large&#44 triangular shaped flying ob...\n",
      "5    Dancing lights that would fly around and then ...\n",
      "6    A minor amber color trail&#44 (from where we w...\n",
      "8    Brilliant orange light or chinese lantern at o...\n",
      "9    Bright red light moving north to north west fr...\n",
      "Name: desc, dtype: object\n",
      "(2147, 3730)\n"
     ]
    }
   ],
   "source": [
    "# Take a look at the head of the desc field\n",
    "print(ufo_df['desc'].head())\n",
    "\n",
    "# Create the tfidf vectorizer object\n",
    "vec = TfidfVectorizer()\n",
    "\n",
    "# Use vec's fit_transform method on the desc field\n",
    "desc_tfidf = vec.fit_transform(ufo_df['desc'])\n",
    "\n",
    "# Look at the number of columns this creates\n",
    "print(desc_tfidf.shape)"
   ]
  },
  {
   "cell_type": "code",
   "execution_count": null,
   "metadata": {
    "ExecuteTime": {
     "end_time": "2019-03-09T07:25:16.466020Z",
     "start_time": "2019-03-09T07:25:16.447387Z"
    },
    "id": "uekUNssl-xj8",
    "outputId": "83b7e297-590e-41ce-df8f-791ce50e0428"
   },
   "outputs": [
    {
     "data": {
      "text/plain": [
       "{1824: 'it',\n",
       " 3572: 'was',\n",
       " 1908: 'large',\n",
       " 150: '44',\n",
       " 3417: 'triangular',\n",
       " 2910: 'shaped',\n",
       " 1449: 'flying',\n",
       " 2336: 'object',\n",
       " 1001: 'dancing',\n",
       " 1964: 'lights',\n",
       " 3284: 'that',\n",
       " 3683: 'would',\n",
       " 1448: 'fly',\n",
       " 441: 'around',\n",
       " 372: 'and',\n",
       " 3290: 'then',\n",
       " 2113: 'merge',\n",
       " 1805: 'into',\n",
       " 2378: 'one',\n",
       " 1957: 'light',\n",
       " 2154: 'minor',\n",
       " 362: 'amber',\n",
       " 861: 'color',\n",
       " 3371: 'trail',\n",
       " 1496: 'from',\n",
       " 3616: 'where',\n",
       " 3585: 'we',\n",
       " 3598: 'were',\n",
       " 1334: 'extremely',\n",
       " 3011: 'slow',\n",
       " 2214: 'movement',\n",
       " 368: 'an',\n",
       " 2359: 'odd',\n",
       " 863: 'coloration',\n",
       " 1968: 'like',\n",
       " 3286: 'the',\n",
       " 2643: 'quot',\n",
       " 2511: 'phoenix',\n",
       " 676: 'brilliant',\n",
       " 2393: 'orange',\n",
       " 2389: 'or',\n",
       " 798: 'chinese',\n",
       " 1902: 'lantern',\n",
       " 461: 'at',\n",
       " 1940: 'less',\n",
       " 3283: 'than',\n",
       " 15: '1000',\n",
       " 1499: 'ft',\n",
       " 2219: 'moving',\n",
       " 1214: 'east',\n",
       " 3339: 'to',\n",
       " 3599: 'west',\n",
       " 296: 'across',\n",
       " 2330: 'oakville',\n",
       " 2380: 'ontario',\n",
       " 2135: 'midnight',\n",
       " 1851: 'june',\n",
       " 275: '9th',\n",
       " 97: '2013',\n",
       " 667: 'bright',\n",
       " 2698: 'red',\n",
       " 2296: 'north',\n",
       " 1692: 'horizon',\n",
       " 3325: 'till',\n",
       " 1103: 'disapeared',\n",
       " 564: 'behind',\n",
       " 846: 'clouds',\n",
       " 3058: 'south',\n",
       " 1403: 'first',\n",
       " 3030: 'so',\n",
       " 957: 'craft',\n",
       " 1608: 'half',\n",
       " 1167: 'dozen',\n",
       " 3167: 'stragglers',\n",
       " 3297: 'they',\n",
       " 3213: 'surely',\n",
       " 2305: 'not',\n",
       " 2541: 'planes',\n",
       " 2294: 'nor',\n",
       " 501: 'ball',\n",
       " 2362: 'of',\n",
       " 3016: 'slowly',\n",
       " 2694: 'rectangle',\n",
       " 1767: 'in',\n",
       " 3001: 'sky',\n",
       " 2813: 'sandwich',\n",
       " 1913: 'lasted',\n",
       " 281: 'about',\n",
       " 2159: 'minutes',\n",
       " 525: 'basically',\n",
       " 931: 'corners',\n",
       " 2267: 'never',\n",
       " 2829: 'saw',\n",
       " 874: 'come',\n",
       " 3018: 'small',\n",
       " 2862: 'sector',\n",
       " 2638: 'quickly',\n",
       " 1107: 'disappearing',\n",
       " 3454: 'ufo',\n",
       " 1456: 'follows',\n",
       " 3376: 'train',\n",
       " 3367: 'tracks',\n",
       " 3411: 'triangle',\n",
       " 282: 'above',\n",
       " 3195: 'suburban',\n",
       " 427: 'area',\n",
       " 2029: 'low',\n",
       " 3659: 'with',\n",
       " 2282: 'no',\n",
       " 3053: 'sound',\n",
       " 1708: 'hovering',\n",
       " 2202: 'motion',\n",
       " 13: '10',\n",
       " 2556: 'pm',\n",
       " 2376: 'on',\n",
       " 23: '12',\n",
       " 273: '99',\n",
       " 2845: 'scottsdale',\n",
       " 431: 'arizona',\n",
       " 3042: 'something',\n",
       " 1629: 'have',\n",
       " 2871: 'seen',\n",
       " 560: 'before',\n",
       " 3390: 'traveling',\n",
       " 2369: 'ojects',\n",
       " 2436: 'over',\n",
       " 3400: 'trees',\n",
       " 1802: 'interstate',\n",
       " 246: '64',\n",
       " 2236: 'my',\n",
       " 1873: 'kids',\n",
       " 3664: 'witnessed',\n",
       " 2790: 'round',\n",
       " 602: 'black',\n",
       " 2212: 'moved',\n",
       " 1169: 'drastically',\n",
       " 2273: 'night',\n",
       " 3460: 'unbelievable',\n",
       " 1113: 'disbelief',\n",
       " 1229: 'egg',\n",
       " 772: 'central',\n",
       " 3573: 'washington',\n",
       " 2011: 'looked',\n",
       " 749: 'carnival',\n",
       " 2754: 'ride',\n",
       " 1554: 'glow',\n",
       " 2179: 'montana',\n",
       " 2118: 'metalic',\n",
       " 3088: 'sphere',\n",
       " 2788: 'rotating',\n",
       " 1363: 'fast',\n",
       " 819: 'circular',\n",
       " 2481: 'pattern',\n",
       " 3313: 'three',\n",
       " 136: '39s',\n",
       " 711: 'by',\n",
       " 1998: 'local',\n",
       " 2495: 'people',\n",
       " 2302: 'northwest',\n",
       " 1208: 'early',\n",
       " 43: '1950s',\n",
       " 3151: 'still',\n",
       " 3474: 'unexplained',\n",
       " 3472: 'unexplainable',\n",
       " 926: 'cool',\n",
       " 1299: 'evening',\n",
       " 3614: 'when',\n",
       " 3563: 'walked',\n",
       " 2424: 'out',\n",
       " 500: 'balcony',\n",
       " 357: 'always',\n",
       " 2028: 'loved',\n",
       " 2013: 'looking',\n",
       " 3496: 'up',\n",
       " 3305: 'this',\n",
       " 2464: 'particular',\n",
       " 3437: 'turned',\n",
       " 2363: 'off',\n",
       " 535: 'bayou',\n",
       " 626: 'blvd',\n",
       " 2381: 'onto',\n",
       " 1560: 'godwinson',\n",
       " 1165: 'down',\n",
       " 3021: 'smok',\n",
       " 1717: 'huge',\n",
       " 780: 'changing',\n",
       " 2911: 'shapes',\n",
       " 866: 'colors',\n",
       " 1468: 'formation',\n",
       " 175: '44counted',\n",
       " 28: '15',\n",
       " 2403: 'orbs',\n",
       " 3490: 'until',\n",
       " 3519: 'vanished',\n",
       " 3293: 'there',\n",
       " 703: 'bursts',\n",
       " 893: 'concentrated',\n",
       " 844: 'cloud',\n",
       " 1462: 'for',\n",
       " 948: 'couple',\n",
       " 549: 'beautiful',\n",
       " 2969: 'silver',\n",
       " 864: 'colored',\n",
       " 2826: 'saucer',\n",
       " 2992: 'size',\n",
       " 39: '18',\n",
       " 3613: 'wheeler',\n",
       " 3441: 'turquoise',\n",
       " 2504: 'perimeter',\n",
       " 830: 'clearly',\n",
       " 129: '3997',\n",
       " 1351: 'fall',\n",
       " 2909: 'shape',\n",
       " 1563: 'golden',\n",
       " 813: 'circle',\n",
       " 143: '40',\n",
       " 2189: 'morning',\n",
       " 1942: 'leting',\n",
       " 1149: 'dog',\n",
       " 8: '05',\n",
       " 4: '02',\n",
       " 0: '00',\n",
       " 1985: 'little',\n",
       " 969: 'creek',\n",
       " 1887: 'ky',\n",
       " 1724: 'humming',\n",
       " 2284: 'noise',\n",
       " 1701: 'house',\n",
       " 2907: 'shaking',\n",
       " 2105: 'medium',\n",
       " 2993: 'sized',\n",
       " 2697: 'rectangular',\n",
       " 2900: 'several',\n",
       " 3696: 'years',\n",
       " 3398: 'tree',\n",
       " 1973: 'line',\n",
       " 3620: 'while',\n",
       " 2959: 'sight',\n",
       " 2865: 'seeing',\n",
       " 3497: 'upon',\n",
       " 3202: 'summit',\n",
       " 2373: 'old',\n",
       " 2651: 'rag',\n",
       " 2208: 'mountain',\n",
       " 2920: 'shenadoah',\n",
       " 2209: 'mountains',\n",
       " 2239: 'myself',\n",
       " 1490: 'friend',\n",
       " 1257: 'encounterd',\n",
       " 1779: 'individual',\n",
       " 400: 'app',\n",
       " 1395: 'fireball',\n",
       " 3170: 'strange',\n",
       " 2132: 'middle',\n",
       " 523: 'base',\n",
       " 1647: 'height',\n",
       " 765: 'ceiling',\n",
       " 151: '44000',\n",
       " 157: '44500',\n",
       " 2437: 'overcast',\n",
       " 2210: 'mov',\n",
       " 3633: 'wight',\n",
       " 2399: 'orb',\n",
       " 727: 'came',\n",
       " 839: 'close',\n",
       " 2540: 'plane',\n",
       " 3615: 'whent',\n",
       " 2869: 'seemingly',\n",
       " 702: 'burning',\n",
       " 3241: 'tail',\n",
       " 1133: 'dissipated',\n",
       " 3358: 'towards',\n",
       " 1260: 'end',\n",
       " 3345: 'too',\n",
       " 591: 'big',\n",
       " 2161: 'miss',\n",
       " 203: '44orange',\n",
       " 1504: 'fussy',\n",
       " 3597: 'went',\n",
       " 2758: 'right',\n",
       " 2100: 'me',\n",
       " 3329: 'times',\n",
       " 1944: 'level',\n",
       " 2421: 'ou',\n",
       " 2701: 'redish',\n",
       " 2338: 'objects',\n",
       " 1439: 'floating',\n",
       " 1687: 'home',\n",
       " 2895: 'sets',\n",
       " 3448: 'two',\n",
       " 2692: 'recorded',\n",
       " 2988: 'sitting',\n",
       " 748: 'car',\n",
       " 2978: 'singal',\n",
       " 1266: 'engine',\n",
       " 3198: 'suddenly',\n",
       " 1114: 'disc',\n",
       " 2473: 'past',\n",
       " 3539: 'very',\n",
       " 1430: 'flickering',\n",
       " 1343: 'fade',\n",
       " 1102: 'disapear',\n",
       " 2885: 'seperate',\n",
       " 828: 'clear',\n",
       " 3623: 'white',\n",
       " 785: 'chased',\n",
       " 238: '52',\n",
       " 2254: 'near',\n",
       " 3684: 'wright',\n",
       " 2484: 'patterson',\n",
       " 317: 'air',\n",
       " 1463: 'force',\n",
       " 2585: 'power',\n",
       " 2867: 'seemed',\n",
       " 494: 'back',\n",
       " 1856: 'just',\n",
       " 3518: 'vanishe',\n",
       " 3304: 'thirteen',\n",
       " 1578: 'grandmother',\n",
       " 2200: 'mother',\n",
       " 1630: 'having',\n",
       " 1752: 'ice',\n",
       " 967: 'cream',\n",
       " 2431: 'outside',\n",
       " 1090: 'diner',\n",
       " 226: '45',\n",
       " 234: '50',\n",
       " 1038: 'degrees',\n",
       " 1558: 'glows',\n",
       " 1077: 'different',\n",
       " 314: 'again',\n",
       " 3699: 'yellow',\n",
       " 1057: 'description',\n",
       " 2579: 'possible',\n",
       " 2961: 'sighting',\n",
       " 1815: 'is',\n",
       " 2591: 'present',\n",
       " 3123: 'star',\n",
       " 3341: 'together',\n",
       " 2810: 'same',\n",
       " 3082: 'speed',\n",
       " 1086: 'dimmed',\n",
       " 1106: 'disappeared',\n",
       " 449: 'as',\n",
       " 1415: 'flare',\n",
       " 793: 'chevron',\n",
       " 2966: 'silent',\n",
       " 3141: 'stayed',\n",
       " 114: '30',\n",
       " 2149: 'min',\n",
       " 760: 'caught',\n",
       " 3544: 'video',\n",
       " 3255: 'tape',\n",
       " 311: 'after',\n",
       " 1375: 'few',\n",
       " 1588: 'greenish',\n",
       " 1068: 'diamond',\n",
       " 1406: 'five',\n",
       " 3019: 'smaller',\n",
       " 1019: 'daytime',\n",
       " 1861: 'kecksburgh',\n",
       " 960: 'crash',\n",
       " 1059: 'desert',\n",
       " 1707: 'hovered',\n",
       " 2768: 'road',\n",
       " 3081: 'sped',\n",
       " 488: 'away',\n",
       " 2164: 'mississauga',\n",
       " 734: 'canada',\n",
       " 405: 'appeared',\n",
       " 539: 'be',\n",
       " 1668: 'high',\n",
       " 2580: 'possibly',\n",
       " 390: 'any',\n",
       " 1210: 'earthling',\n",
       " 2046: 'made',\n",
       " 1825: 'item',\n",
       " 1773: 'incredible',\n",
       " 3168: 'straight',\n",
       " 1424: 'flat',\n",
       " 615: 'blinking',\n",
       " 1893: 'lake',\n",
       " 2416: 'oswego',\n",
       " 1501: 'full',\n",
       " 2943: 'shortly',\n",
       " 21: '11',\n",
       " 31: '16',\n",
       " 3205: 'sunday',\n",
       " 1035: 'defied',\n",
       " 308: 'aerodynamiccs',\n",
       " 1883: 'know',\n",
       " 621: 'blue',\n",
       " 2624: 'purple',\n",
       " 1344: 'faded',\n",
       " 1000: 'danced',\n",
       " 973: 'cricle',\n",
       " 2763: 'rise',\n",
       " 1110: 'disapper',\n",
       " 2742: 'retiring',\n",
       " 1570: 'got',\n",
       " 556: 'bed',\n",
       " 2779: 'room',\n",
       " 1002: 'dark',\n",
       " 3642: 'window',\n",
       " 3008: 'slightly',\n",
       " 2383: 'open',\n",
       " 1636: 'head',\n",
       " 1935: 'left',\n",
       " 689: 'bubble',\n",
       " 3104: 'spotted',\n",
       " 2084: 'martinez',\n",
       " 171: '44ca',\n",
       " 356: 'altitude',\n",
       " 2608: 'prox',\n",
       " 384: 'another',\n",
       " 2666: 'rate',\n",
       " 1516: 'gateway',\n",
       " 324: 'airport',\n",
       " 2114: 'merged',\n",
       " 385: 'anouther',\n",
       " 553: 'became',\n",
       " 3324: 'tight',\n",
       " 214: '44straight',\n",
       " 414: 'approx',\n",
       " 128: '39',\n",
       " 1790: 'intense',\n",
       " 1203: 'each',\n",
       " 850: 'cntr',\n",
       " 208: '44rest',\n",
       " 1454: 'followed',\n",
       " 2347: 'observer',\n",
       " 3155: 'stoppe',\n",
       " 688: 'brownwood',\n",
       " 3281: 'texas',\n",
       " 122: '33',\n",
       " 2087: 'mass',\n",
       " 3098: 'sporadically',\n",
       " 1771: 'inconsistent',\n",
       " 3056: 'sounds',\n",
       " 3582: 'waves',\n",
       " 112: '29',\n",
       " 154: '442008',\n",
       " 267: '8pm',\n",
       " 194: '44my',\n",
       " 3712: 'yr',\n",
       " 1537: 'girls',\n",
       " 456: 'asked',\n",
       " 3609: 'what',\n",
       " 1757: 'if',\n",
       " 2938: 'shooting',\n",
       " 3342: 'told',\n",
       " 3288: 'them',\n",
       " 2217: 'moves',\n",
       " 567: 'being',\n",
       " 3138: 'stationary',\n",
       " 2095: 'maysville',\n",
       " 1606: 'had',\n",
       " 1497: 'front',\n",
       " 3102: 'spotlight',\n",
       " 2228: 'multicolor',\n",
       " 3593: 'well',\n",
       " 180: '44first',\n",
       " 1753: 'id',\n",
       " 2678: 'really',\n",
       " 3626: 'whomever',\n",
       " 1561: 'going',\n",
       " 2672: 'read',\n",
       " 358: 'am',\n",
       " 1626: 'hard',\n",
       " 3328: 'time',\n",
       " 570: 'believing',\n",
       " 1862: 'keep',\n",
       " 3427: 'try',\n",
       " 1120: 'disk',\n",
       " 1378: 'field',\n",
       " 251: '70',\n",
       " 2468: 'pass',\n",
       " 2547: 'play',\n",
       " 784: 'chase',\n",
       " 403: 'appear',\n",
       " 1199: 'during',\n",
       " 1016: 'day',\n",
       " 191: '44make',\n",
       " 1105: 'disappear',\n",
       " 1612: 'hammond',\n",
       " 1759: 'illinois',\n",
       " 3233: 'sylvania',\n",
       " 2097: 'mccord',\n",
       " 1852: 'junior',\n",
       " 816: 'circling',\n",
       " 2008: 'longwood',\n",
       " 1408: 'fl',\n",
       " 2997: 'skies',\n",
       " 1080: 'dim',\n",
       " 598: 'bird',\n",
       " 2619: 'pulsating',\n",
       " 2502: 'performing',\n",
       " 430: 'ariel',\n",
       " 295: 'acrobatics',\n",
       " 2426: 'outer',\n",
       " 3069: 'space',\n",
       " 82: '20',\n",
       " 3128: 'stars',\n",
       " 1766: 'imposters',\n",
       " 1418: 'flash',\n",
       " 671: 'brightlights',\n",
       " 367: 'amp',\n",
       " 3592: 'weird',\n",
       " 2288: 'noisies',\n",
       " 1624: 'happennings',\n",
       " 3564: 'walking',\n",
       " 512: 'bar',\n",
       " 2083: 'mars',\n",
       " 554: 'because',\n",
       " 733: 'can',\n",
       " 2316: 'now',\n",
       " 586: 'bethel',\n",
       " 2460: 'park',\n",
       " 2444: 'pa',\n",
       " 802: 'christmas',\n",
       " 1297: 'eve',\n",
       " 2811: 'san',\n",
       " 389: 'antonio',\n",
       " 728: 'camera',\n",
       " 169: '44bright',\n",
       " 3262: 'teasing',\n",
       " 3503: 'us',\n",
       " 2142: 'miles',\n",
       " 1060: 'desolate',\n",
       " 1671: 'highway',\n",
       " 2245: 'nashville',\n",
       " 3273: 'tennessee',\n",
       " 2405: 'ordinary',\n",
       " 968: 'creating',\n",
       " 339: 'all',\n",
       " 1432: 'flies',\n",
       " 2967: 'silently',\n",
       " 2554: 'please',\n",
       " 2736: 'respect',\n",
       " 2599: 'privacy',\n",
       " 778: 'changed',\n",
       " 1098: 'directions',\n",
       " 1320: 'experience',\n",
       " 3484: 'unkown',\n",
       " 3530: 'vegas',\n",
       " 1595: 'group',\n",
       " 2864: 'see',\n",
       " 3458: 'un',\n",
       " 1324: 'explained',\n",
       " 1564: 'goldish',\n",
       " 207: '44red',\n",
       " 183: '44green',\n",
       " 155: '4430',\n",
       " 3603: 'western',\n",
       " 939: 'couch',\n",
       " 2847: 'screen',\n",
       " 1157: 'door',\n",
       " 1623: 'happened',\n",
       " 322: 'airplane',\n",
       " 707: 'but',\n",
       " 841: 'closer',\n",
       " 519: 'barnes',\n",
       " 2669: 'rd',\n",
       " 3565: 'wallingford',\n",
       " 2432: 'oval',\n",
       " 622: 'blueish',\n",
       " 3720: 'zig',\n",
       " 3718: 'zaging',\n",
       " 1128: 'dissapears',\n",
       " 3210: 'sunset',\n",
       " 3166: 'strage',\n",
       " 2367: 'ohio',\n",
       " 2766: 'river',\n",
       " 2848: 'se',\n",
       " 1071: 'did',\n",
       " 2211: 'move',\n",
       " 2005: 'long',\n",
       " 3577: 'watched',\n",
       " 1217: 'eastern',\n",
       " 2661: 'random',\n",
       " 2620: 'pulse',\n",
       " 318: 'aircraft',\n",
       " 2594: 'pressure',\n",
       " 3580: 'wave',\n",
       " 316: 'ahead',\n",
       " 2070: 'maple',\n",
       " 1599: 'grove',\n",
       " 2990: 'six',\n",
       " 1557: 'glowing',\n",
       " 1130: 'dissaperarint',\n",
       " 3346: 'took',\n",
       " 2000: 'location',\n",
       " 1772: 'increadible',\n",
       " 401: 'apparent',\n",
       " 1400: 'firey',\n",
       " 645: 'bottom',\n",
       " 2516: 'photos',\n",
       " 747: 'captured',\n",
       " 1189: 'drops',\n",
       " 1917: 'late',\n",
       " 312: 'afternoon',\n",
       " 2657: 'raleigh',\n",
       " 2251: 'nc',\n",
       " 417: 'april',\n",
       " 268: '8th',\n",
       " 2422: 'our',\n",
       " 2020: 'lost',\n",
       " 1580: 'grants',\n",
       " 204: '44oregon',\n",
       " 2191: 'morphed',\n",
       " 871: 'columbus',\n",
       " 2222: 'ms',\n",
       " 2144: 'military',\n",
       " 319: 'aircrafts',\n",
       " 406: 'appearing',\n",
       " 1806: 'investigate',\n",
       " 1590: 'grey',\n",
       " 1587: 'green',\n",
       " 1362: 'fashion',\n",
       " 2957: 'sideways',\n",
       " 1094: 'direct',\n",
       " 1657: 'helping',\n",
       " 2264: 'nephue',\n",
       " 2055: 'make',\n",
       " 3579: 'water',\n",
       " 505: 'balloons',\n",
       " 2807: 'said',\n",
       " 2659: 'ran',\n",
       " 162: '44and',\n",
       " 2928: 'shini',\n",
       " 685: 'brought',\n",
       " 1271: 'entered',\n",
       " 1526: 'get',\n",
       " 3039: 'some',\n",
       " 1486: 'fresh',\n",
       " 197: '44no',\n",
       " 2006: 'longer',\n",
       " 2860: 'seconds',\n",
       " 3116: 'st',\n",
       " 1979: 'listened',\n",
       " 2649: 'radio',\n",
       " 3584: 'way',\n",
       " 1845: 'jose',\n",
       " 2720: 'reno',\n",
       " 2324: 'nv',\n",
       " 447: 'artbell',\n",
       " 1677: 'his',\n",
       " 3247: 'talk',\n",
       " 3546: 'viewed',\n",
       " 3309: 'thought',\n",
       " 1505: 'future',\n",
       " 497: 'backyard',\n",
       " 3031: 'soaring',\n",
       " 1421: 'flashing',\n",
       " 1284: 'erratically',\n",
       " 2319: 'nuforc',\n",
       " 2306: 'note',\n",
       " 2980: 'sirius',\n",
       " 2487: 'pd',\n",
       " 103: '22',\n",
       " 1640: 'headlights',\n",
       " 771: 'centered',\n",
       " 947: 'county',\n",
       " 106: '25',\n",
       " 24: '13',\n",
       " 2974: 'similar',\n",
       " 3534: 'venus',\n",
       " 2537: 'place',\n",
       " 2155: 'mins',\n",
       " 3029: 'snapped',\n",
       " 1954: 'lifted',\n",
       " 3114: 'squared',\n",
       " 3540: 'vessel',\n",
       " 2045: 'macon',\n",
       " 1509: 'ga',\n",
       " 1620: 'hanging',\n",
       " 875: 'comes',\n",
       " 1304: 'every',\n",
       " 2274: 'nights',\n",
       " 2196: 'most',\n",
       " 868: 'colourful',\n",
       " 3024: 'smoking',\n",
       " 2312: 'noticed',\n",
       " 2642: 'quite',\n",
       " 1352: 'falling',\n",
       " 1341: 'facing',\n",
       " 1635: 'he',\n",
       " 2455: 'paper',\n",
       " 1846: 'journal',\n",
       " 3133: 'stated',\n",
       " 2182: 'month',\n",
       " 2820: 'satalites',\n",
       " 3552: 'visible',\n",
       " 140: '39winking',\n",
       " 2268: 'new',\n",
       " 3455: 'ufos',\n",
       " 782: 'charleston',\n",
       " 2834: 'sc',\n",
       " 3351: 'torpedo',\n",
       " 3090: 'spherical',\n",
       " 2131: 'mid',\n",
       " 2861: 'section',\n",
       " 3176: 'streaming',\n",
       " 3089: 'spheres',\n",
       " 1049: 'des',\n",
       " 2174: 'moines',\n",
       " 1812: 'iowa',\n",
       " 506: 'balls',\n",
       " 1469: 'formations',\n",
       " 1838: 'jets',\n",
       " 2229: 'multicolored',\n",
       " 3357: 'toward',\n",
       " 1866: 'kennedy',\n",
       " 770: 'center',\n",
       " 854: 'cocoa',\n",
       " 2522: 'picture',\n",
       " 3384: 'translutant',\n",
       " 538: 'bday',\n",
       " 2466: 'party',\n",
       " 1240: 'else',\n",
       " 2728: 'reporting',\n",
       " 1603: 'gulf',\n",
       " 454: 'ashtabula',\n",
       " 2982: 'sister',\n",
       " 684: 'brother',\n",
       " 1923: 'law',\n",
       " 1322: 'explain',\n",
       " 3194: 'suburb',\n",
       " 1394: 'fire',\n",
       " 573: 'beloit',\n",
       " 3628: 'wi',\n",
       " 641: 'border',\n",
       " 3403: 'tremendeous',\n",
       " 1283: 'erratic',\n",
       " 2213: 'moveme',\n",
       " 3388: 'travel',\n",
       " 2299: 'northern',\n",
       " 1441: 'florida',\n",
       " 3410: 'triange',\n",
       " 1159: 'dot',\n",
       " 2944: 'shot',\n",
       " 3501: 'upwards',\n",
       " 3156: 'stopped',\n",
       " 1428: 'flew',\n",
       " 2120: 'meteor',\n",
       " 1175: 'drifted',\n",
       " 2198: 'mot',\n",
       " 1559: 'go',\n",
       " 2622: 'pulsing',\n",
       " 2771: 'rocket',\n",
       " 3485: 'unlike',\n",
       " 2125: 'mi',\n",
       " 3055: 'soundless',\n",
       " 3307: 'those',\n",
       " 524: 'baseball',\n",
       " 3186: 'strobe',\n",
       " 1934: 'lebanon',\n",
       " 983: 'ct',\n",
       " 2756: 'ridiculously',\n",
       " 3531: 'vehicle',\n",
       " 2973: 'simi',\n",
       " 3514: 'valley',\n",
       " 3432: 'tue',\n",
       " 2073: 'march',\n",
       " 91: '2007',\n",
       " 1744: 'i4',\n",
       " 1316: 'exit',\n",
       " 27: '14',\n",
       " 1478: 'four',\n",
       " 1609: 'halo',\n",
       " 420: 'arc',\n",
       " 2439: 'overhead',\n",
       " 958: 'crafts',\n",
       " 1198: 'durham',\n",
       " 1455: 'following',\n",
       " 1096: 'direction',\n",
       " 1982: 'lite',\n",
       " 823: 'city',\n",
       " 3315: 'through',\n",
       " 3260: 'tear',\n",
       " 1186: 'drop',\n",
       " 2345: 'observed',\n",
       " 664: 'brie',\n",
       " 1356: 'far',\n",
       " 1553: 'glod',\n",
       " 2309: 'nothig',\n",
       " 3706: 'you',\n",
       " 2225: 'much',\n",
       " 2272: 'nice',\n",
       " 3094: 'spinning',\n",
       " 3037: 'solid',\n",
       " 2932: 'shinny',\n",
       " 3386: 'transparent',\n",
       " 3100: 'spot',\n",
       " 1638: 'heading',\n",
       " 2394: 'orangeish',\n",
       " 1471: 'forming',\n",
       " 988: 'curved',\n",
       " 3045: 'somewhere',\n",
       " 769: 'cen',\n",
       " 32: '160',\n",
       " 2188: 'more',\n",
       " 3451: 'type',\n",
       " 1470: 'formed',\n",
       " 1961: 'lighthouse',\n",
       " 1148: 'does',\n",
       " 810: 'cigar',\n",
       " 1232: 'electric',\n",
       " 1776: 'indian',\n",
       " 750: 'carolina',\n",
       " 2693: 'rectanble',\n",
       " 2503: 'perhaps',\n",
       " 3724: 'zipping',\n",
       " 1250: 'emitted',\n",
       " 1184: 'driving',\n",
       " 1017: 'daylight',\n",
       " 2803: 'rush',\n",
       " 1699: 'hour',\n",
       " 1583: 'gray',\n",
       " 489: 'awesome',\n",
       " 3703: 'yet',\n",
       " 970: 'creepy',\n",
       " 3097: 'spooky',\n",
       " 2926: 'shined',\n",
       " 2929: 'shiniest',\n",
       " 803: 'chrome',\n",
       " 1303: 'ever',\n",
       " 887: 'completely',\n",
       " 2639: 'quiet',\n",
       " 2960: 'sighted',\n",
       " 1910: 'las',\n",
       " 2726: 'report',\n",
       " 1301: 'event',\n",
       " 3360: 'town',\n",
       " 3594: 'wells',\n",
       " 215: '44texas',\n",
       " 3662: 'without',\n",
       " 115: '300',\n",
       " 144: '400',\n",
       " 1368: 'feet',\n",
       " 492: 'az',\n",
       " 2391: 'orage',\n",
       " 1543: 'glenville',\n",
       " 3688: 'wv',\n",
       " 1709: 'hovers',\n",
       " 1704: 'houston',\n",
       " 3449: 'tx',\n",
       " 56: '1973',\n",
       " 2167: 'mist',\n",
       " 3500: 'upward',\n",
       " 2162: 'missile',\n",
       " 1920: 'launch',\n",
       " 2231: 'multiple',\n",
       " 1124: 'display',\n",
       " 2003: 'london',\n",
       " 219: '44then',\n",
       " 2392: 'orang',\n",
       " 3578: 'watching',\n",
       " 1355: 'fanwood',\n",
       " 2279: 'nj',\n",
       " 2891: 'series',\n",
       " 3067: 'southwestern',\n",
       " 3261: 'teardrop',\n",
       " 1981: 'lit',\n",
       " 644: 'bothell',\n",
       " 3558: 'wa',\n",
       " 624: 'bluish',\n",
       " 1610: 'halt',\n",
       " 1369: 'fell',\n",
       " 457: 'asleep',\n",
       " 3322: 'tied',\n",
       " 2119: 'metallic',\n",
       " 1147: 'dodge',\n",
       " 3178: 'street',\n",
       " 1330: 'exprsway',\n",
       " 2375: 'omaha',\n",
       " 2253: 'ne',\n",
       " 1634: 'hbccufo',\n",
       " 735: 'canadian',\n",
       " 3215: 'surrounded',\n",
       " 2263: 'neon',\n",
       " 1705: 'hover',\n",
       " 1005: 'dart',\n",
       " 2089: 'massive',\n",
       " 865: 'colorful',\n",
       " 1786: 'instantly',\n",
       " 118: '31',\n",
       " 1777: 'indiana',\n",
       " 1051: 'descend',\n",
       " 1672: 'hill',\n",
       " 1099: 'directly',\n",
       " 3535: 'vernon',\n",
       " 3060: 'southeast',\n",
       " 777: 'change',\n",
       " 1047: 'depending',\n",
       " 375: 'angle',\n",
       " 2984: 'sited',\n",
       " 1555: 'glowball',\n",
       " 558: 'bedroom',\n",
       " 1370: 'felt',\n",
       " 708: 'butterfly',\n",
       " 2877: 'sensation',\n",
       " 792: 'chest',\n",
       " 3282: 'th',\n",
       " 991: 'cylinder',\n",
       " 463: 'atlantic',\n",
       " 2356: 'ocean',\n",
       " 853: 'coastal',\n",
       " 1683: 'hobe',\n",
       " 2127: 'miami',\n",
       " 3107: 'spring',\n",
       " 1697: 'hot',\n",
       " 3160: 'storm',\n",
       " 879: 'coming',\n",
       " 185: '44heat',\n",
       " 1963: 'lightning',\n",
       " 174: '44clouds',\n",
       " 217: '44that',\n",
       " 3051: 'sort',\n",
       " 3300: 'thing',\n",
       " 2552: 'playing',\n",
       " 1397: 'firery',\n",
       " 2584: 'pouring',\n",
       " 3022: 'smoke',\n",
       " 581: 'beneath',\n",
       " 1474: 'forth',\n",
       " 5: '03',\n",
       " 1888: 'l7',\n",
       " 1700: 'hours',\n",
       " 3521: 'vanishing',\n",
       " 1933: 'leaving',\n",
       " 627: 'bobbing',\n",
       " 3483: 'unknown',\n",
       " 3445: 'twinkling',\n",
       " 3469: 'underneath',\n",
       " 439: 'arou',\n",
       " 1259: 'encounters',\n",
       " 1302: 'events',\n",
       " 3713: 'yrs',\n",
       " 396: 'apart',\n",
       " 3299: 'thin',\n",
       " 2532: 'pinkish',\n",
       " 2761: 'rings',\n",
       " 1176: 'drifting',\n",
       " 2224: 'mt',\n",
       " 3512: 'va',\n",
       " 2582: 'potomac',\n",
       " 47: '1963',\n",
       " 48: '1964',\n",
       " 1819: 'isle',\n",
       " 2452: 'palms',\n",
       " 12: '09',\n",
       " 53: '197',\n",
       " 1637: 'headed',\n",
       " 3678: 'work',\n",
       " 1691: 'horizion',\n",
       " 2521: 'pics',\n",
       " 1030: 'decide',\n",
       " 3710: 'yourself',\n",
       " 631: 'bolingbrook',\n",
       " 2093: 'may',\n",
       " 38: '17th',\n",
       " 85: '2001',\n",
       " 2102: 'meadows',\n",
       " 1936: 'length',\n",
       " 1429: 'flickered',\n",
       " 2724: 'replace',\n",
       " 3188: 'strong',\n",
       " 2447: 'pacific',\n",
       " 1972: 'lincoln',\n",
       " 2849: 'sea',\n",
       " 1605: 'gypsy',\n",
       " 1698: 'hotel',\n",
       " 540: 'beach',\n",
       " 3393: 'travels',\n",
       " 2158: 'minute',\n",
       " 452: 'ascends',\n",
       " 1547: 'gliding',\n",
       " 2062: 'manhattan',\n",
       " 1091: 'dinner',\n",
       " 941: 'couldn',\n",
       " 137: '39t',\n",
       " 566: 'beileve',\n",
       " 2018: 'los',\n",
       " 374: 'angeles',\n",
       " 88: '2004',\n",
       " 2415: 'oscillating',\n",
       " 2314: 'novato',\n",
       " 713: 'ca',\n",
       " 1489: 'friday',\n",
       " 75: '1998',\n",
       " 1364: 'faster',\n",
       " 394: 'anything',\n",
       " 746: 'capsule',\n",
       " 2525: 'pill',\n",
       " 2762: 'rippling',\n",
       " 2227: 'multi',\n",
       " 867: 'coloured',\n",
       " 607: 'blasts',\n",
       " 2924: 'shifting',\n",
       " ...}"
      ]
     },
     "execution_count": 307,
     "metadata": {
      "tags": []
     },
     "output_type": "execute_result"
    }
   ],
   "source": [
    "vocab = {v:k for k,v in vec.vocabulary_.items()}\n",
    "vocab"
   ]
  },
  {
   "cell_type": "code",
   "execution_count": null,
   "metadata": {
    "ExecuteTime": {
     "end_time": "2019-03-09T07:25:18.602810Z",
     "start_time": "2019-03-09T07:25:16.940673Z"
    },
    "id": "GZN_D6Vu-xj8",
    "outputId": "97ec7571-933b-4f52-bcf2-9729eb2b4146"
   },
   "outputs": [
    {
     "name": "stdout",
     "output_type": "stream",
     "text": [
      "              seconds  seconds_log   minutes\n",
      "seconds      1.000000     0.191504 -0.005390\n",
      "seconds_log  0.191504     1.000000  0.817861\n",
      "minutes     -0.005390     0.817861  1.000000\n"
     ]
    }
   ],
   "source": [
    "# Check the correlation between the seconds, seconds_log, and minutes columns\n",
    "print(ufo_df[[\"seconds\", \"seconds_log\", \"minutes\"]].corr())\n",
    "\n",
    "# Make a list of features to drop   \n",
    "to_drop = [\"city\", \"country\", \"country_enc\", \"date\", \"desc\", \"lat\", \"length_of_time\",\n",
    "           \"long\", \"minutes\", \"recorded\", \"seconds\", \"state\", \"time_minutes\"]\n",
    "\n",
    "# Drop those features\n",
    "ufo_df_dropped = ufo_df.drop(to_drop, axis=1)\n",
    "\n",
    "# Let's also filter some words out of the text vector we created\n",
    "filtered_words = words_to_filter(vocab, vec.vocabulary_, desc_tfidf, 4)"
   ]
  },
  {
   "cell_type": "code",
   "execution_count": null,
   "metadata": {
    "ExecuteTime": {
     "end_time": "2019-03-09T07:25:19.498862Z",
     "start_time": "2019-03-09T07:25:19.495043Z"
    },
    "id": "GRXITPQi-xj9",
    "outputId": "fcd19dec-fbc2-434b-b891-530dafb29edf"
   },
   "outputs": [
    {
     "data": {
      "text/plain": [
       "Index(['type', 'seconds_log', 'changing', 'chevron', 'cigar', 'circle', 'cone',\n",
       "       'cross', 'cylinder', 'diamond', 'disk', 'egg', 'fireball', 'flash',\n",
       "       'formation', 'light', 'other', 'oval', 'rectangle', 'sphere',\n",
       "       'teardrop', 'triangle', 'unknown', 'month', 'year'],\n",
       "      dtype='object')"
      ]
     },
     "execution_count": 310,
     "metadata": {
      "tags": []
     },
     "output_type": "execute_result"
    }
   ],
   "source": [
    "ufo_df_dropped.columns"
   ]
  },
  {
   "cell_type": "code",
   "execution_count": null,
   "metadata": {
    "ExecuteTime": {
     "end_time": "2019-03-09T07:25:19.951041Z",
     "start_time": "2019-03-09T07:25:19.947501Z"
    },
    "id": "D3oCSm_8-xj9"
   },
   "outputs": [],
   "source": [
    "X = ufo_df_dropped.drop('type', axis=1)\n",
    "y = ufo_df_dropped['type']"
   ]
  },
  {
   "cell_type": "code",
   "execution_count": null,
   "metadata": {
    "ExecuteTime": {
     "end_time": "2019-03-09T07:25:21.416961Z",
     "start_time": "2019-03-09T07:25:21.380232Z"
    },
    "id": "q0dGmEiK-xj9",
    "outputId": "bb8d23fa-c6bf-4916-e503-deaf8aaaf4e7"
   },
   "outputs": [
    {
     "name": "stdout",
     "output_type": "stream",
     "text": [
      "0.6312849162011173\n"
     ]
    }
   ],
   "source": [
    "train_X, test_X, train_y, test_y = train_test_split(X, y, stratify=y)\n",
    "\n",
    "knn.fit(train_X, train_y)\n",
    "\n",
    "print(knn.score(test_X, test_y))"
   ]
  },
  {
   "cell_type": "code",
   "execution_count": null,
   "metadata": {
    "ExecuteTime": {
     "end_time": "2019-03-09T07:27:30.350541Z",
     "start_time": "2019-03-09T07:27:29.959941Z"
    },
    "id": "QLrcGQtY-xj9",
    "outputId": "7fb32522-8045-4355-b964-220354323a5d"
   },
   "outputs": [
    {
     "name": "stdout",
     "output_type": "stream",
     "text": [
      "0.15828677839851024\n"
     ]
    }
   ],
   "source": [
    "filtered_text = desc_tfidf[:, list(filtered_words)]\n",
    "\n",
    "train_X, test_X, train_y, test_y = train_test_split(filtered_text.toarray(), y, stratify=y)\n",
    "\n",
    "nb = GaussianNB(priors=None)\n",
    "nb.fit(train_X, train_y)\n",
    "\n",
    "print(nb.score(test_X, test_y))"
   ]
  },
  {
   "cell_type": "code",
   "execution_count": null,
   "metadata": {
    "id": "wVNMuMKZ-xj9"
   },
   "outputs": [],
   "source": []
  }
 ],
 "metadata": {
  "colab": {
   "collapsed_sections": [
    "7e8FJ-wU-xjw",
    "gztDF39N-xjy",
    "ljHtsxuv-xjz",
    "8u3UYemi-xj1",
    "5xnbvhPh-xj2",
    "H-r84P10-xj2",
    "nooZ_dfH-xj3",
    "QPyMRhJm-xj4",
    "0eLgY6Lj-xj5",
    "dgA2ZD-f-xj6",
    "l9k6PJsv-xj7",
    "LDqlvLjp-xj8"
   ],
   "name": "2020-06-28-Preprocess-for-ML.ipynb",
   "provenance": []
  },
  "kernelspec": {
   "display_name": "Python 3",
   "language": "python",
   "name": "python3"
  },
  "language_info": {
   "codemirror_mode": {
    "name": "ipython",
    "version": 3
   },
   "file_extension": ".py",
   "mimetype": "text/x-python",
   "name": "python",
   "nbconvert_exporter": "python",
   "pygments_lexer": "ipython3",
   "version": "3.8.3"
  },
  "toc": {
   "base_numbering": 1,
   "nav_menu": {},
   "number_sections": true,
   "sideBar": true,
   "skip_h1_title": true,
   "title_cell": "Preprocessing for ML",
   "title_sidebar": "Contents",
   "toc_cell": true,
   "toc_position": {
    "height": "calc(100% - 180px)",
    "left": "10px",
    "top": "150px",
    "width": "373.333px"
   },
   "toc_section_display": true,
   "toc_window_display": true
  },
  "varInspector": {
   "cols": {
    "lenName": 16,
    "lenType": 16,
    "lenVar": 40
   },
   "kernels_config": {
    "python": {
     "delete_cmd_postfix": "",
     "delete_cmd_prefix": "del ",
     "library": "var_list.py",
     "varRefreshCmd": "print(var_dic_list())"
    },
    "r": {
     "delete_cmd_postfix": ") ",
     "delete_cmd_prefix": "rm(",
     "library": "var_list.r",
     "varRefreshCmd": "cat(var_dic_list()) "
    }
   },
   "types_to_exclude": [
    "module",
    "function",
    "builtin_function_or_method",
    "instance",
    "_Feature"
   ],
   "window_display": false
  }
 },
 "nbformat": 4,
 "nbformat_minor": 4
}
